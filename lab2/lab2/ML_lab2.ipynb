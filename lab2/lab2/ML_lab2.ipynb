{
 "cells": [
  {
   "cell_type": "markdown",
   "metadata": {},
   "source": [
    "# Лаборатораня работа №2: Обработка пропусков в данных, кодирование категориальных признаков, масштабирование данных."
   ]
  },
  {
   "cell_type": "markdown",
   "metadata": {},
   "source": [
    "## 1) Обработка пропусков в данных"
   ]
  },
  {
   "cell_type": "code",
   "execution_count": 1,
   "metadata": {},
   "outputs": [],
   "source": [
    "import pandas as pd\n",
    "import numpy as np\n",
    "from matplotlib import pyplot as plt\n",
    "import seaborn as sns\n",
    "import math\n",
    "from sklearn.impute import SimpleImputer\n",
    "from sklearn.preprocessing import MinMaxScaler, StandardScaler, Normalizer"
   ]
  },
  {
   "cell_type": "code",
   "execution_count": 2,
   "metadata": {},
   "outputs": [],
   "source": [
    "data = pd.read_csv('crimes.csv')"
   ]
  },
  {
   "cell_type": "code",
   "execution_count": 3,
   "metadata": {},
   "outputs": [
    {
     "data": {
      "text/html": [
       "<div>\n",
       "<style scoped>\n",
       "    .dataframe tbody tr th:only-of-type {\n",
       "        vertical-align: middle;\n",
       "    }\n",
       "\n",
       "    .dataframe tbody tr th {\n",
       "        vertical-align: top;\n",
       "    }\n",
       "\n",
       "    .dataframe thead th {\n",
       "        text-align: right;\n",
       "    }\n",
       "</style>\n",
       "<table border=\"1\" class=\"dataframe\">\n",
       "  <thead>\n",
       "    <tr style=\"text-align: right;\">\n",
       "      <th></th>\n",
       "      <th>CrimeDate</th>\n",
       "      <th>CrimeTime</th>\n",
       "      <th>CrimeCode</th>\n",
       "      <th>Location</th>\n",
       "      <th>Description</th>\n",
       "      <th>Inside/Outside</th>\n",
       "      <th>Weapon</th>\n",
       "      <th>Post</th>\n",
       "      <th>District</th>\n",
       "      <th>Neighborhood</th>\n",
       "      <th>Location 1</th>\n",
       "      <th>Total Incidents</th>\n",
       "    </tr>\n",
       "  </thead>\n",
       "  <tbody>\n",
       "    <tr>\n",
       "      <th>0</th>\n",
       "      <td>11/12/2016</td>\n",
       "      <td>02:35:00</td>\n",
       "      <td>3B</td>\n",
       "      <td>300 SAINT PAUL PL</td>\n",
       "      <td>ROBBERY - STREET</td>\n",
       "      <td>O</td>\n",
       "      <td>NaN</td>\n",
       "      <td>111.0</td>\n",
       "      <td>CENTRAL</td>\n",
       "      <td>Downtown</td>\n",
       "      <td>(39.2924100000, -76.6140800000)</td>\n",
       "      <td>1</td>\n",
       "    </tr>\n",
       "    <tr>\n",
       "      <th>1</th>\n",
       "      <td>11/12/2016</td>\n",
       "      <td>02:56:00</td>\n",
       "      <td>3CF</td>\n",
       "      <td>800 S BROADWAY</td>\n",
       "      <td>ROBBERY - COMMERCIAL</td>\n",
       "      <td>I</td>\n",
       "      <td>FIREARM</td>\n",
       "      <td>213.0</td>\n",
       "      <td>SOUTHEASTERN</td>\n",
       "      <td>Fells Point</td>\n",
       "      <td>(39.2824200000, -76.5928800000)</td>\n",
       "      <td>1</td>\n",
       "    </tr>\n",
       "    <tr>\n",
       "      <th>2</th>\n",
       "      <td>11/12/2016</td>\n",
       "      <td>03:00:00</td>\n",
       "      <td>6D</td>\n",
       "      <td>1500 PENTWOOD RD</td>\n",
       "      <td>LARCENY FROM AUTO</td>\n",
       "      <td>O</td>\n",
       "      <td>NaN</td>\n",
       "      <td>413.0</td>\n",
       "      <td>NORTHEASTERN</td>\n",
       "      <td>Stonewood-Pentwood-Winston</td>\n",
       "      <td>(39.3480500000, -76.5883400000)</td>\n",
       "      <td>1</td>\n",
       "    </tr>\n",
       "    <tr>\n",
       "      <th>3</th>\n",
       "      <td>11/12/2016</td>\n",
       "      <td>03:00:00</td>\n",
       "      <td>6D</td>\n",
       "      <td>6600 MILTON LN</td>\n",
       "      <td>LARCENY FROM AUTO</td>\n",
       "      <td>O</td>\n",
       "      <td>NaN</td>\n",
       "      <td>424.0</td>\n",
       "      <td>NORTHEASTERN</td>\n",
       "      <td>Westfield</td>\n",
       "      <td>(39.3626300000, -76.5516100000)</td>\n",
       "      <td>1</td>\n",
       "    </tr>\n",
       "    <tr>\n",
       "      <th>4</th>\n",
       "      <td>11/12/2016</td>\n",
       "      <td>03:00:00</td>\n",
       "      <td>6E</td>\n",
       "      <td>300 W BALTIMORE ST</td>\n",
       "      <td>LARCENY</td>\n",
       "      <td>O</td>\n",
       "      <td>NaN</td>\n",
       "      <td>111.0</td>\n",
       "      <td>CENTRAL</td>\n",
       "      <td>Downtown</td>\n",
       "      <td>(39.2893800000, -76.6197100000)</td>\n",
       "      <td>1</td>\n",
       "    </tr>\n",
       "  </tbody>\n",
       "</table>\n",
       "</div>"
      ],
      "text/plain": [
       "    CrimeDate CrimeTime CrimeCode            Location           Description  \\\n",
       "0  11/12/2016  02:35:00        3B   300 SAINT PAUL PL      ROBBERY - STREET   \n",
       "1  11/12/2016  02:56:00       3CF      800 S BROADWAY  ROBBERY - COMMERCIAL   \n",
       "2  11/12/2016  03:00:00        6D    1500 PENTWOOD RD     LARCENY FROM AUTO   \n",
       "3  11/12/2016  03:00:00        6D      6600 MILTON LN     LARCENY FROM AUTO   \n",
       "4  11/12/2016  03:00:00        6E  300 W BALTIMORE ST               LARCENY   \n",
       "\n",
       "  Inside/Outside   Weapon   Post      District                Neighborhood  \\\n",
       "0              O      NaN  111.0       CENTRAL                    Downtown   \n",
       "1              I  FIREARM  213.0  SOUTHEASTERN                 Fells Point   \n",
       "2              O      NaN  413.0  NORTHEASTERN  Stonewood-Pentwood-Winston   \n",
       "3              O      NaN  424.0  NORTHEASTERN                   Westfield   \n",
       "4              O      NaN  111.0       CENTRAL                    Downtown   \n",
       "\n",
       "                        Location 1  Total Incidents  \n",
       "0  (39.2924100000, -76.6140800000)                1  \n",
       "1  (39.2824200000, -76.5928800000)                1  \n",
       "2  (39.3480500000, -76.5883400000)                1  \n",
       "3  (39.3626300000, -76.5516100000)                1  \n",
       "4  (39.2893800000, -76.6197100000)                1  "
      ]
     },
     "execution_count": 3,
     "metadata": {},
     "output_type": "execute_result"
    }
   ],
   "source": [
    "data.head()"
   ]
  },
  {
   "cell_type": "code",
   "execution_count": 4,
   "metadata": {},
   "outputs": [
    {
     "name": "stdout",
     "output_type": "stream",
     "text": [
      "<class 'pandas.core.frame.DataFrame'>\n",
      "RangeIndex: 285807 entries, 0 to 285806\n",
      "Data columns (total 12 columns):\n",
      " #   Column           Non-Null Count   Dtype  \n",
      "---  ------           --------------   -----  \n",
      " 0   CrimeDate        285807 non-null  object \n",
      " 1   CrimeTime        285807 non-null  object \n",
      " 2   CrimeCode        285807 non-null  object \n",
      " 3   Location         284184 non-null  object \n",
      " 4   Description      285807 non-null  object \n",
      " 5   Inside/Outside   281611 non-null  object \n",
      " 6   Weapon           97396 non-null   object \n",
      " 7   Post             285616 non-null  float64\n",
      " 8   District         285749 non-null  object \n",
      " 9   Neighborhood     284106 non-null  object \n",
      " 10  Location 1       284188 non-null  object \n",
      " 11  Total Incidents  285807 non-null  int64  \n",
      "dtypes: float64(1), int64(1), object(10)\n",
      "memory usage: 26.2+ MB\n"
     ]
    }
   ],
   "source": [
    "data.info()"
   ]
  },
  {
   "cell_type": "code",
   "execution_count": 5,
   "metadata": {},
   "outputs": [
    {
     "name": "stdout",
     "output_type": "stream",
     "text": [
      "CrimeDate: 0 (0.0%)\n",
      "CrimeTime: 0 (0.0%)\n",
      "CrimeCode: 0 (0.0%)\n",
      "Location: 1623 (0.568%)\n",
      "Description: 0 (0.0%)\n",
      "Inside/Outside: 4196 (1.468%)\n",
      "Weapon: 188411 (65.922%)\n",
      "Post: 191 (0.067%)\n",
      "District: 58 (0.02%)\n",
      "Neighborhood: 1701 (0.595%)\n",
      "Location 1: 1619 (0.566%)\n",
      "Total Incidents: 0 (0.0%)\n",
      "\n",
      "bad columns: ['Location', 'Inside/Outside', 'Weapon', 'Post', 'District', 'Neighborhood', 'Location 1']\n"
     ]
    }
   ],
   "source": [
    "bad_cols = []\n",
    "for col in data.columns:\n",
    "    if data[col].isnull().sum():\n",
    "        bad_cols.append(col)\n",
    "    print(f'{col}: {data[col].isnull().sum()} ({round(data[col].isnull().sum() / data.shape[0] * 100, 3)}%)')\n",
    "print('\\nbad columns:', bad_cols)"
   ]
  },
  {
   "cell_type": "code",
   "execution_count": 6,
   "metadata": {},
   "outputs": [
    {
     "name": "stdout",
     "output_type": "stream",
     "text": [
      "Количество уникальных значений\n",
      "\n",
      "CrimeDate: 2143\n",
      "CrimeTime: 4236\n",
      "CrimeCode: 81\n",
      "Location: 25950\n",
      "Description: 15\n",
      "Inside/Outside: 5\n",
      "Weapon: 5\n",
      "Post: 190\n",
      "District: 14\n",
      "Neighborhood: 281\n",
      "Location 1: 97952\n",
      "Total Incidents: 1\n"
     ]
    }
   ],
   "source": [
    "print(\"Количество уникальных значений\\n\")\n",
    "for col in data.columns:\n",
    "    print(f'{col}: {data[col].unique().size}')"
   ]
  },
  {
   "cell_type": "code",
   "execution_count": 7,
   "metadata": {},
   "outputs": [
    {
     "data": {
      "text/html": [
       "<div>\n",
       "<style scoped>\n",
       "    .dataframe tbody tr th:only-of-type {\n",
       "        vertical-align: middle;\n",
       "    }\n",
       "\n",
       "    .dataframe tbody tr th {\n",
       "        vertical-align: top;\n",
       "    }\n",
       "\n",
       "    .dataframe thead th {\n",
       "        text-align: right;\n",
       "    }\n",
       "</style>\n",
       "<table border=\"1\" class=\"dataframe\">\n",
       "  <thead>\n",
       "    <tr style=\"text-align: right;\">\n",
       "      <th></th>\n",
       "      <th>CrimeDate</th>\n",
       "      <th>CrimeTime</th>\n",
       "      <th>CrimeCode</th>\n",
       "      <th>Location</th>\n",
       "      <th>Description</th>\n",
       "      <th>Inside/Outside</th>\n",
       "      <th>Post</th>\n",
       "      <th>District</th>\n",
       "      <th>Neighborhood</th>\n",
       "      <th>Location 1</th>\n",
       "    </tr>\n",
       "  </thead>\n",
       "  <tbody>\n",
       "    <tr>\n",
       "      <th>0</th>\n",
       "      <td>11/12/2016</td>\n",
       "      <td>02:35:00</td>\n",
       "      <td>3B</td>\n",
       "      <td>300 SAINT PAUL PL</td>\n",
       "      <td>ROBBERY - STREET</td>\n",
       "      <td>O</td>\n",
       "      <td>111.0</td>\n",
       "      <td>CENTRAL</td>\n",
       "      <td>Downtown</td>\n",
       "      <td>(39.2924100000, -76.6140800000)</td>\n",
       "    </tr>\n",
       "    <tr>\n",
       "      <th>1</th>\n",
       "      <td>11/12/2016</td>\n",
       "      <td>02:56:00</td>\n",
       "      <td>3CF</td>\n",
       "      <td>800 S BROADWAY</td>\n",
       "      <td>ROBBERY - COMMERCIAL</td>\n",
       "      <td>I</td>\n",
       "      <td>213.0</td>\n",
       "      <td>SOUTHEASTERN</td>\n",
       "      <td>Fells Point</td>\n",
       "      <td>(39.2824200000, -76.5928800000)</td>\n",
       "    </tr>\n",
       "    <tr>\n",
       "      <th>2</th>\n",
       "      <td>11/12/2016</td>\n",
       "      <td>03:00:00</td>\n",
       "      <td>6D</td>\n",
       "      <td>1500 PENTWOOD RD</td>\n",
       "      <td>LARCENY FROM AUTO</td>\n",
       "      <td>O</td>\n",
       "      <td>413.0</td>\n",
       "      <td>NORTHEASTERN</td>\n",
       "      <td>Stonewood-Pentwood-Winston</td>\n",
       "      <td>(39.3480500000, -76.5883400000)</td>\n",
       "    </tr>\n",
       "    <tr>\n",
       "      <th>3</th>\n",
       "      <td>11/12/2016</td>\n",
       "      <td>03:00:00</td>\n",
       "      <td>6D</td>\n",
       "      <td>6600 MILTON LN</td>\n",
       "      <td>LARCENY FROM AUTO</td>\n",
       "      <td>O</td>\n",
       "      <td>424.0</td>\n",
       "      <td>NORTHEASTERN</td>\n",
       "      <td>Westfield</td>\n",
       "      <td>(39.3626300000, -76.5516100000)</td>\n",
       "    </tr>\n",
       "    <tr>\n",
       "      <th>4</th>\n",
       "      <td>11/12/2016</td>\n",
       "      <td>03:00:00</td>\n",
       "      <td>6E</td>\n",
       "      <td>300 W BALTIMORE ST</td>\n",
       "      <td>LARCENY</td>\n",
       "      <td>O</td>\n",
       "      <td>111.0</td>\n",
       "      <td>CENTRAL</td>\n",
       "      <td>Downtown</td>\n",
       "      <td>(39.2893800000, -76.6197100000)</td>\n",
       "    </tr>\n",
       "  </tbody>\n",
       "</table>\n",
       "</div>"
      ],
      "text/plain": [
       "    CrimeDate CrimeTime CrimeCode            Location           Description  \\\n",
       "0  11/12/2016  02:35:00        3B   300 SAINT PAUL PL      ROBBERY - STREET   \n",
       "1  11/12/2016  02:56:00       3CF      800 S BROADWAY  ROBBERY - COMMERCIAL   \n",
       "2  11/12/2016  03:00:00        6D    1500 PENTWOOD RD     LARCENY FROM AUTO   \n",
       "3  11/12/2016  03:00:00        6D      6600 MILTON LN     LARCENY FROM AUTO   \n",
       "4  11/12/2016  03:00:00        6E  300 W BALTIMORE ST               LARCENY   \n",
       "\n",
       "  Inside/Outside   Post      District                Neighborhood  \\\n",
       "0              O  111.0       CENTRAL                    Downtown   \n",
       "1              I  213.0  SOUTHEASTERN                 Fells Point   \n",
       "2              O  413.0  NORTHEASTERN  Stonewood-Pentwood-Winston   \n",
       "3              O  424.0  NORTHEASTERN                   Westfield   \n",
       "4              O  111.0       CENTRAL                    Downtown   \n",
       "\n",
       "                        Location 1  \n",
       "0  (39.2924100000, -76.6140800000)  \n",
       "1  (39.2824200000, -76.5928800000)  \n",
       "2  (39.3480500000, -76.5883400000)  \n",
       "3  (39.3626300000, -76.5516100000)  \n",
       "4  (39.2893800000, -76.6197100000)  "
      ]
     },
     "execution_count": 7,
     "metadata": {},
     "output_type": "execute_result"
    }
   ],
   "source": [
    "data.drop(['Total Incidents', 'Weapon'], axis=1, inplace=True) # малоинформативные столбцы\n",
    "data.head()"
   ]
  },
  {
   "cell_type": "code",
   "execution_count": 8,
   "metadata": {},
   "outputs": [
    {
     "data": {
      "text/plain": [
       "array(['O', 'I', 'Outside', 'Inside', nan], dtype=object)"
      ]
     },
     "execution_count": 8,
     "metadata": {},
     "output_type": "execute_result"
    }
   ],
   "source": [
    "data['Inside/Outside'].unique()"
   ]
  },
  {
   "cell_type": "code",
   "execution_count": 9,
   "metadata": {},
   "outputs": [
    {
     "data": {
      "text/plain": [
       "array(['Outside', 'Inside', nan], dtype=object)"
      ]
     },
     "execution_count": 9,
     "metadata": {},
     "output_type": "execute_result"
    }
   ],
   "source": [
    "data['Inside/Outside'].replace('I', 'Inside', inplace=True)\n",
    "data['Inside/Outside'].replace('O', 'Outside', inplace=True)\n",
    "data['Inside/Outside'].unique()"
   ]
  },
  {
   "cell_type": "code",
   "execution_count": 10,
   "metadata": {},
   "outputs": [
    {
     "data": {
      "text/plain": [
       "Inside     142531\n",
       "Outside    139080\n",
       "Name: Inside/Outside, dtype: int64"
      ]
     },
     "execution_count": 10,
     "metadata": {},
     "output_type": "execute_result"
    }
   ],
   "source": [
    "data['Inside/Outside'].value_counts()"
   ]
  },
  {
   "cell_type": "code",
   "execution_count": 11,
   "metadata": {},
   "outputs": [
    {
     "data": {
      "text/plain": [
       "111.0    9776\n",
       "212.0    4982\n",
       "922.0    4655\n",
       "211.0    4513\n",
       "913.0    4470\n",
       "         ... \n",
       "2.1         1\n",
       "925.0       1\n",
       "0.7         1\n",
       "0.6         1\n",
       "1.0         1\n",
       "Name: Post, Length: 189, dtype: int64"
      ]
     },
     "execution_count": 11,
     "metadata": {},
     "output_type": "execute_result"
    }
   ],
   "source": [
    "data['Post'].value_counts()"
   ]
  },
  {
   "cell_type": "code",
   "execution_count": 12,
   "metadata": {},
   "outputs": [
    {
     "data": {
      "text/plain": [
       "NORTHEASTERN    44832\n",
       "SOUTHEASTERN    39245\n",
       "CENTRAL         33782\n",
       "SOUTHERN        33031\n",
       "NORTHERN        32005\n",
       "NORTHWESTERN    28690\n",
       "SOUTHWESTERN    26242\n",
       "EASTERN         24168\n",
       "WESTERN         23266\n",
       "NORTHESTERN       280\n",
       "SOUTHESTERN       205\n",
       "Central             2\n",
       "Gay Street          1\n",
       "Name: District, dtype: int64"
      ]
     },
     "execution_count": 12,
     "metadata": {},
     "output_type": "execute_result"
    }
   ],
   "source": [
    "data['District'].value_counts()"
   ]
  },
  {
   "cell_type": "code",
   "execution_count": 13,
   "metadata": {},
   "outputs": [
    {
     "data": {
      "text/plain": [
       "Downtown                   9666\n",
       "Frankford                  6791\n",
       "Belair-Edison              6133\n",
       "Brooklyn                   4528\n",
       "Cherry Hill                4273\n",
       "                           ... \n",
       "Mt Pleasant Park             12\n",
       "Blythewood                    5\n",
       "EASTERN                       1\n",
       "Dundalk Marine Terminal       1\n",
       "NORTHEASTERN                  1\n",
       "Name: Neighborhood, Length: 280, dtype: int64"
      ]
     },
     "execution_count": 13,
     "metadata": {},
     "output_type": "execute_result"
    }
   ],
   "source": [
    "data['Neighborhood'].value_counts()"
   ]
  },
  {
   "cell_type": "code",
   "execution_count": 14,
   "metadata": {},
   "outputs": [],
   "source": [
    "data = data.dropna(subset=['Location 1'], axis=0)\n",
    "\n",
    "x = [float(elem[1:14]) for elem in data['Location 1']]\n",
    "y = [float(elem[17:30]) for elem in data['Location 1']]\n",
    "data['X'] = pd.Series(x).reindex(data.index, method='ffill')\n",
    "data['Y'] = pd.Series(y).reindex(data.index, method='ffill')\n",
    "\n",
    "data.drop(['Location 1'], axis=1, inplace=True)"
   ]
  },
  {
   "cell_type": "code",
   "execution_count": 15,
   "metadata": {},
   "outputs": [],
   "source": [
    "def show_coords_dist():\n",
    "    fig, (ax1, ax2) = plt.subplots(1, 2, figsize=(12, 4))\n",
    "    sns.boxplot(data=data['X'], ax=ax1);\n",
    "    sns.boxplot(data=data['Y'], ax=ax2);\n",
    "    ax1.set_title('X coord')\n",
    "    ax2.set_title('Y coord')\n",
    "    plt.show()"
   ]
  },
  {
   "cell_type": "code",
   "execution_count": 16,
   "metadata": {},
   "outputs": [
    {
     "data": {
      "image/png": "[encoded data removed]",
      "text/plain": [
       "<Figure size 864x288 with 2 Axes>"
      ]
     },
     "metadata": {
      "needs_background": "light"
     },
     "output_type": "display_data"
    }
   ],
   "source": [
    "show_coords_dist()"
   ]
  },
  {
   "cell_type": "code",
   "execution_count": 17,
   "metadata": {},
   "outputs": [],
   "source": [
    "data.drop(data[data['X'] > 40].index, inplace=True)"
   ]
  },
  {
   "cell_type": "code",
   "execution_count": 18,
   "metadata": {},
   "outputs": [
    {
     "data": {
      "image/png": "[encoded data removed]",
      "text/plain": [
       "<Figure size 864x288 with 2 Axes>"
      ]
     },
     "metadata": {
      "needs_background": "light"
     },
     "output_type": "display_data"
    }
   ],
   "source": [
    "show_coords_dist()"
   ]
  },
  {
   "cell_type": "code",
   "execution_count": 19,
   "metadata": {},
   "outputs": [],
   "source": [
    "SimpleImputer(strategy='constant', fill_value='-', copy=False).fit_transform(data['Location'].values.reshape(-1, 1))\n",
    "SimpleImputer(strategy='constant', fill_value='-', copy=False).fit_transform(data['Neighborhood'].values.reshape(-1, 1))\n",
    "SimpleImputer(strategy='constant', fill_value='Inside', copy=False).fit_transform(data['Inside/Outside'].values.reshape(-1, 1))\n",
    "\n",
    "data = data.dropna(subset=['Post'], axis=0)\n",
    "data = data.dropna(subset=['District'], axis=0)\n",
    "data = data.dropna(subset=['X'], axis=0)\n",
    "data = data.dropna(subset=['Y'], axis=0)"
   ]
  },
  {
   "cell_type": "code",
   "execution_count": 20,
   "metadata": {},
   "outputs": [
    {
     "data": {
      "text/plain": [
       "CrimeDate         0\n",
       "CrimeTime         0\n",
       "CrimeCode         0\n",
       "Location          0\n",
       "Description       0\n",
       "Inside/Outside    0\n",
       "Post              0\n",
       "District          0\n",
       "Neighborhood      0\n",
       "X                 0\n",
       "Y                 0\n",
       "dtype: int64"
      ]
     },
     "execution_count": 20,
     "metadata": {},
     "output_type": "execute_result"
    }
   ],
   "source": [
    "data.isnull().sum()"
   ]
  },
  {
   "cell_type": "markdown",
   "metadata": {},
   "source": [
    "## 2) Кодирование категориальных признаков"
   ]
  },
  {
   "cell_type": "code",
   "execution_count": 21,
   "metadata": {},
   "outputs": [
    {
     "data": {
      "text/html": [
       "<div>\n",
       "<style scoped>\n",
       "    .dataframe tbody tr th:only-of-type {\n",
       "        vertical-align: middle;\n",
       "    }\n",
       "\n",
       "    .dataframe tbody tr th {\n",
       "        vertical-align: top;\n",
       "    }\n",
       "\n",
       "    .dataframe thead th {\n",
       "        text-align: right;\n",
       "    }\n",
       "</style>\n",
       "<table border=\"1\" class=\"dataframe\">\n",
       "  <thead>\n",
       "    <tr style=\"text-align: right;\">\n",
       "      <th></th>\n",
       "      <th>CrimeDate</th>\n",
       "      <th>CrimeTime</th>\n",
       "      <th>CrimeCode</th>\n",
       "      <th>Location</th>\n",
       "      <th>Description</th>\n",
       "      <th>Inside/Outside</th>\n",
       "      <th>Post</th>\n",
       "      <th>District</th>\n",
       "      <th>Neighborhood</th>\n",
       "      <th>X</th>\n",
       "      <th>Y</th>\n",
       "    </tr>\n",
       "  </thead>\n",
       "  <tbody>\n",
       "    <tr>\n",
       "      <th>0</th>\n",
       "      <td>11/12/2016</td>\n",
       "      <td>02:35:00</td>\n",
       "      <td>3B</td>\n",
       "      <td>300 SAINT PAUL PL</td>\n",
       "      <td>ROBBERY - STREET</td>\n",
       "      <td>Outside</td>\n",
       "      <td>111.0</td>\n",
       "      <td>CENTRAL</td>\n",
       "      <td>Downtown</td>\n",
       "      <td>39.29241</td>\n",
       "      <td>76.61408</td>\n",
       "    </tr>\n",
       "    <tr>\n",
       "      <th>1</th>\n",
       "      <td>11/12/2016</td>\n",
       "      <td>02:56:00</td>\n",
       "      <td>3CF</td>\n",
       "      <td>800 S BROADWAY</td>\n",
       "      <td>ROBBERY - COMMERCIAL</td>\n",
       "      <td>Inside</td>\n",
       "      <td>213.0</td>\n",
       "      <td>SOUTHEASTERN</td>\n",
       "      <td>Fells Point</td>\n",
       "      <td>39.28242</td>\n",
       "      <td>76.59288</td>\n",
       "    </tr>\n",
       "    <tr>\n",
       "      <th>2</th>\n",
       "      <td>11/12/2016</td>\n",
       "      <td>03:00:00</td>\n",
       "      <td>6D</td>\n",
       "      <td>1500 PENTWOOD RD</td>\n",
       "      <td>LARCENY FROM AUTO</td>\n",
       "      <td>Outside</td>\n",
       "      <td>413.0</td>\n",
       "      <td>NORTHEASTERN</td>\n",
       "      <td>Stonewood-Pentwood-Winston</td>\n",
       "      <td>39.34805</td>\n",
       "      <td>76.58834</td>\n",
       "    </tr>\n",
       "    <tr>\n",
       "      <th>3</th>\n",
       "      <td>11/12/2016</td>\n",
       "      <td>03:00:00</td>\n",
       "      <td>6D</td>\n",
       "      <td>6600 MILTON LN</td>\n",
       "      <td>LARCENY FROM AUTO</td>\n",
       "      <td>Outside</td>\n",
       "      <td>424.0</td>\n",
       "      <td>NORTHEASTERN</td>\n",
       "      <td>Westfield</td>\n",
       "      <td>39.36263</td>\n",
       "      <td>76.55161</td>\n",
       "    </tr>\n",
       "    <tr>\n",
       "      <th>4</th>\n",
       "      <td>11/12/2016</td>\n",
       "      <td>03:00:00</td>\n",
       "      <td>6E</td>\n",
       "      <td>300 W BALTIMORE ST</td>\n",
       "      <td>LARCENY</td>\n",
       "      <td>Outside</td>\n",
       "      <td>111.0</td>\n",
       "      <td>CENTRAL</td>\n",
       "      <td>Downtown</td>\n",
       "      <td>39.28938</td>\n",
       "      <td>76.61971</td>\n",
       "    </tr>\n",
       "  </tbody>\n",
       "</table>\n",
       "</div>"
      ],
      "text/plain": [
       "    CrimeDate CrimeTime CrimeCode            Location           Description  \\\n",
       "0  11/12/2016  02:35:00        3B   300 SAINT PAUL PL      ROBBERY - STREET   \n",
       "1  11/12/2016  02:56:00       3CF      800 S BROADWAY  ROBBERY - COMMERCIAL   \n",
       "2  11/12/2016  03:00:00        6D    1500 PENTWOOD RD     LARCENY FROM AUTO   \n",
       "3  11/12/2016  03:00:00        6D      6600 MILTON LN     LARCENY FROM AUTO   \n",
       "4  11/12/2016  03:00:00        6E  300 W BALTIMORE ST               LARCENY   \n",
       "\n",
       "  Inside/Outside   Post      District                Neighborhood         X  \\\n",
       "0        Outside  111.0       CENTRAL                    Downtown  39.29241   \n",
       "1         Inside  213.0  SOUTHEASTERN                 Fells Point  39.28242   \n",
       "2        Outside  413.0  NORTHEASTERN  Stonewood-Pentwood-Winston  39.34805   \n",
       "3        Outside  424.0  NORTHEASTERN                   Westfield  39.36263   \n",
       "4        Outside  111.0       CENTRAL                    Downtown  39.28938   \n",
       "\n",
       "          Y  \n",
       "0  76.61408  \n",
       "1  76.59288  \n",
       "2  76.58834  \n",
       "3  76.55161  \n",
       "4  76.61971  "
      ]
     },
     "execution_count": 21,
     "metadata": {},
     "output_type": "execute_result"
    }
   ],
   "source": [
    "data.head()"
   ]
  },
  {
   "cell_type": "code",
   "execution_count": 22,
   "metadata": {},
   "outputs": [
    {
     "data": {
      "text/html": [
       "<div>\n",
       "<style scoped>\n",
       "    .dataframe tbody tr th:only-of-type {\n",
       "        vertical-align: middle;\n",
       "    }\n",
       "\n",
       "    .dataframe tbody tr th {\n",
       "        vertical-align: top;\n",
       "    }\n",
       "\n",
       "    .dataframe thead th {\n",
       "        text-align: right;\n",
       "    }\n",
       "</style>\n",
       "<table border=\"1\" class=\"dataframe\">\n",
       "  <thead>\n",
       "    <tr style=\"text-align: right;\">\n",
       "      <th></th>\n",
       "      <th>CrimeDate</th>\n",
       "      <th>CrimeTime</th>\n",
       "      <th>CrimeCode</th>\n",
       "      <th>Location</th>\n",
       "      <th>Description</th>\n",
       "      <th>Inside/Outside</th>\n",
       "      <th>Post</th>\n",
       "      <th>District</th>\n",
       "      <th>Neighborhood</th>\n",
       "      <th>X</th>\n",
       "      <th>Y</th>\n",
       "      <th>Hours</th>\n",
       "      <th>Minutes</th>\n",
       "    </tr>\n",
       "  </thead>\n",
       "  <tbody>\n",
       "    <tr>\n",
       "      <th>0</th>\n",
       "      <td>11/12/2016</td>\n",
       "      <td>02:35:00</td>\n",
       "      <td>3B</td>\n",
       "      <td>300 SAINT PAUL PL</td>\n",
       "      <td>ROBBERY - STREET</td>\n",
       "      <td>Outside</td>\n",
       "      <td>111.0</td>\n",
       "      <td>CENTRAL</td>\n",
       "      <td>Downtown</td>\n",
       "      <td>39.29241</td>\n",
       "      <td>76.61408</td>\n",
       "      <td>2</td>\n",
       "      <td>35</td>\n",
       "    </tr>\n",
       "    <tr>\n",
       "      <th>1</th>\n",
       "      <td>11/12/2016</td>\n",
       "      <td>02:56:00</td>\n",
       "      <td>3CF</td>\n",
       "      <td>800 S BROADWAY</td>\n",
       "      <td>ROBBERY - COMMERCIAL</td>\n",
       "      <td>Inside</td>\n",
       "      <td>213.0</td>\n",
       "      <td>SOUTHEASTERN</td>\n",
       "      <td>Fells Point</td>\n",
       "      <td>39.28242</td>\n",
       "      <td>76.59288</td>\n",
       "      <td>2</td>\n",
       "      <td>56</td>\n",
       "    </tr>\n",
       "    <tr>\n",
       "      <th>2</th>\n",
       "      <td>11/12/2016</td>\n",
       "      <td>03:00:00</td>\n",
       "      <td>6D</td>\n",
       "      <td>1500 PENTWOOD RD</td>\n",
       "      <td>LARCENY FROM AUTO</td>\n",
       "      <td>Outside</td>\n",
       "      <td>413.0</td>\n",
       "      <td>NORTHEASTERN</td>\n",
       "      <td>Stonewood-Pentwood-Winston</td>\n",
       "      <td>39.34805</td>\n",
       "      <td>76.58834</td>\n",
       "      <td>3</td>\n",
       "      <td>0</td>\n",
       "    </tr>\n",
       "    <tr>\n",
       "      <th>3</th>\n",
       "      <td>11/12/2016</td>\n",
       "      <td>03:00:00</td>\n",
       "      <td>6D</td>\n",
       "      <td>6600 MILTON LN</td>\n",
       "      <td>LARCENY FROM AUTO</td>\n",
       "      <td>Outside</td>\n",
       "      <td>424.0</td>\n",
       "      <td>NORTHEASTERN</td>\n",
       "      <td>Westfield</td>\n",
       "      <td>39.36263</td>\n",
       "      <td>76.55161</td>\n",
       "      <td>3</td>\n",
       "      <td>0</td>\n",
       "    </tr>\n",
       "    <tr>\n",
       "      <th>4</th>\n",
       "      <td>11/12/2016</td>\n",
       "      <td>03:00:00</td>\n",
       "      <td>6E</td>\n",
       "      <td>300 W BALTIMORE ST</td>\n",
       "      <td>LARCENY</td>\n",
       "      <td>Outside</td>\n",
       "      <td>111.0</td>\n",
       "      <td>CENTRAL</td>\n",
       "      <td>Downtown</td>\n",
       "      <td>39.28938</td>\n",
       "      <td>76.61971</td>\n",
       "      <td>3</td>\n",
       "      <td>0</td>\n",
       "    </tr>\n",
       "  </tbody>\n",
       "</table>\n",
       "</div>"
      ],
      "text/plain": [
       "    CrimeDate CrimeTime CrimeCode            Location           Description  \\\n",
       "0  11/12/2016  02:35:00        3B   300 SAINT PAUL PL      ROBBERY - STREET   \n",
       "1  11/12/2016  02:56:00       3CF      800 S BROADWAY  ROBBERY - COMMERCIAL   \n",
       "2  11/12/2016  03:00:00        6D    1500 PENTWOOD RD     LARCENY FROM AUTO   \n",
       "3  11/12/2016  03:00:00        6D      6600 MILTON LN     LARCENY FROM AUTO   \n",
       "4  11/12/2016  03:00:00        6E  300 W BALTIMORE ST               LARCENY   \n",
       "\n",
       "  Inside/Outside   Post      District                Neighborhood         X  \\\n",
       "0        Outside  111.0       CENTRAL                    Downtown  39.29241   \n",
       "1         Inside  213.0  SOUTHEASTERN                 Fells Point  39.28242   \n",
       "2        Outside  413.0  NORTHEASTERN  Stonewood-Pentwood-Winston  39.34805   \n",
       "3        Outside  424.0  NORTHEASTERN                   Westfield  39.36263   \n",
       "4        Outside  111.0       CENTRAL                    Downtown  39.28938   \n",
       "\n",
       "          Y  Hours  Minutes  \n",
       "0  76.61408      2       35  \n",
       "1  76.59288      2       56  \n",
       "2  76.58834      3        0  \n",
       "3  76.55161      3        0  \n",
       "4  76.61971      3        0  "
      ]
     },
     "execution_count": 22,
     "metadata": {},
     "output_type": "execute_result"
    }
   ],
   "source": [
    "data['Hours'] = [int(elem[:2]) for elem in data['CrimeTime']]\n",
    "data['Minutes'] = [int(elem[3:5]) for elem in data['CrimeTime']]\n",
    "data.head()"
   ]
  },
  {
   "cell_type": "code",
   "execution_count": 23,
   "metadata": {},
   "outputs": [],
   "source": [
    "category_cols = ['CrimeCode', 'Location', 'Description', 'Inside/Outside', 'District', 'Neighborhood']"
   ]
  },
  {
   "cell_type": "code",
   "execution_count": 24,
   "metadata": {},
   "outputs": [
    {
     "name": "stdout",
     "output_type": "stream",
     "text": [
      "Количество уникальных значений\n",
      "\n",
      "CrimeCode: 81\n",
      "Location: 25937\n",
      "Description: 15\n",
      "Inside/Outside: 2\n",
      "District: 12\n",
      "Neighborhood: 281\n"
     ]
    }
   ],
   "source": [
    "print(\"Количество уникальных значений\\n\")\n",
    "for col in category_cols:\n",
    "    print(f'{col}: {data[col].unique().size}')"
   ]
  },
  {
   "cell_type": "code",
   "execution_count": 25,
   "metadata": {},
   "outputs": [],
   "source": [
    "category_cols.remove('Location')\n",
    "category_cols.remove('Neighborhood')"
   ]
  },
  {
   "cell_type": "code",
   "execution_count": 26,
   "metadata": {},
   "outputs": [],
   "source": [
    "for col in category_cols:\n",
    "    data = pd.concat([data, pd.get_dummies(data[col])], axis=1)"
   ]
  },
  {
   "cell_type": "code",
   "execution_count": 27,
   "metadata": {
    "scrolled": true
   },
   "outputs": [
    {
     "data": {
      "text/html": [
       "<div>\n",
       "<style scoped>\n",
       "    .dataframe tbody tr th:only-of-type {\n",
       "        vertical-align: middle;\n",
       "    }\n",
       "\n",
       "    .dataframe tbody tr th {\n",
       "        vertical-align: top;\n",
       "    }\n",
       "\n",
       "    .dataframe thead th {\n",
       "        text-align: right;\n",
       "    }\n",
       "</style>\n",
       "<table border=\"1\" class=\"dataframe\">\n",
       "  <thead>\n",
       "    <tr style=\"text-align: right;\">\n",
       "      <th></th>\n",
       "      <th>CrimeDate</th>\n",
       "      <th>CrimeTime</th>\n",
       "      <th>CrimeCode</th>\n",
       "      <th>Location</th>\n",
       "      <th>Description</th>\n",
       "      <th>Inside/Outside</th>\n",
       "      <th>Post</th>\n",
       "      <th>District</th>\n",
       "      <th>Neighborhood</th>\n",
       "      <th>X</th>\n",
       "      <th>...</th>\n",
       "      <th>Gay Street</th>\n",
       "      <th>NORTHEASTERN</th>\n",
       "      <th>NORTHERN</th>\n",
       "      <th>NORTHESTERN</th>\n",
       "      <th>NORTHWESTERN</th>\n",
       "      <th>SOUTHEASTERN</th>\n",
       "      <th>SOUTHERN</th>\n",
       "      <th>SOUTHESTERN</th>\n",
       "      <th>SOUTHWESTERN</th>\n",
       "      <th>WESTERN</th>\n",
       "    </tr>\n",
       "  </thead>\n",
       "  <tbody>\n",
       "    <tr>\n",
       "      <th>0</th>\n",
       "      <td>11/12/2016</td>\n",
       "      <td>02:35:00</td>\n",
       "      <td>3B</td>\n",
       "      <td>300 SAINT PAUL PL</td>\n",
       "      <td>ROBBERY - STREET</td>\n",
       "      <td>Outside</td>\n",
       "      <td>111.0</td>\n",
       "      <td>CENTRAL</td>\n",
       "      <td>Downtown</td>\n",
       "      <td>39.29241</td>\n",
       "      <td>...</td>\n",
       "      <td>0</td>\n",
       "      <td>0</td>\n",
       "      <td>0</td>\n",
       "      <td>0</td>\n",
       "      <td>0</td>\n",
       "      <td>0</td>\n",
       "      <td>0</td>\n",
       "      <td>0</td>\n",
       "      <td>0</td>\n",
       "      <td>0</td>\n",
       "    </tr>\n",
       "    <tr>\n",
       "      <th>1</th>\n",
       "      <td>11/12/2016</td>\n",
       "      <td>02:56:00</td>\n",
       "      <td>3CF</td>\n",
       "      <td>800 S BROADWAY</td>\n",
       "      <td>ROBBERY - COMMERCIAL</td>\n",
       "      <td>Inside</td>\n",
       "      <td>213.0</td>\n",
       "      <td>SOUTHEASTERN</td>\n",
       "      <td>Fells Point</td>\n",
       "      <td>39.28242</td>\n",
       "      <td>...</td>\n",
       "      <td>0</td>\n",
       "      <td>0</td>\n",
       "      <td>0</td>\n",
       "      <td>0</td>\n",
       "      <td>0</td>\n",
       "      <td>1</td>\n",
       "      <td>0</td>\n",
       "      <td>0</td>\n",
       "      <td>0</td>\n",
       "      <td>0</td>\n",
       "    </tr>\n",
       "    <tr>\n",
       "      <th>2</th>\n",
       "      <td>11/12/2016</td>\n",
       "      <td>03:00:00</td>\n",
       "      <td>6D</td>\n",
       "      <td>1500 PENTWOOD RD</td>\n",
       "      <td>LARCENY FROM AUTO</td>\n",
       "      <td>Outside</td>\n",
       "      <td>413.0</td>\n",
       "      <td>NORTHEASTERN</td>\n",
       "      <td>Stonewood-Pentwood-Winston</td>\n",
       "      <td>39.34805</td>\n",
       "      <td>...</td>\n",
       "      <td>0</td>\n",
       "      <td>1</td>\n",
       "      <td>0</td>\n",
       "      <td>0</td>\n",
       "      <td>0</td>\n",
       "      <td>0</td>\n",
       "      <td>0</td>\n",
       "      <td>0</td>\n",
       "      <td>0</td>\n",
       "      <td>0</td>\n",
       "    </tr>\n",
       "    <tr>\n",
       "      <th>3</th>\n",
       "      <td>11/12/2016</td>\n",
       "      <td>03:00:00</td>\n",
       "      <td>6D</td>\n",
       "      <td>6600 MILTON LN</td>\n",
       "      <td>LARCENY FROM AUTO</td>\n",
       "      <td>Outside</td>\n",
       "      <td>424.0</td>\n",
       "      <td>NORTHEASTERN</td>\n",
       "      <td>Westfield</td>\n",
       "      <td>39.36263</td>\n",
       "      <td>...</td>\n",
       "      <td>0</td>\n",
       "      <td>1</td>\n",
       "      <td>0</td>\n",
       "      <td>0</td>\n",
       "      <td>0</td>\n",
       "      <td>0</td>\n",
       "      <td>0</td>\n",
       "      <td>0</td>\n",
       "      <td>0</td>\n",
       "      <td>0</td>\n",
       "    </tr>\n",
       "    <tr>\n",
       "      <th>4</th>\n",
       "      <td>11/12/2016</td>\n",
       "      <td>03:00:00</td>\n",
       "      <td>6E</td>\n",
       "      <td>300 W BALTIMORE ST</td>\n",
       "      <td>LARCENY</td>\n",
       "      <td>Outside</td>\n",
       "      <td>111.0</td>\n",
       "      <td>CENTRAL</td>\n",
       "      <td>Downtown</td>\n",
       "      <td>39.28938</td>\n",
       "      <td>...</td>\n",
       "      <td>0</td>\n",
       "      <td>0</td>\n",
       "      <td>0</td>\n",
       "      <td>0</td>\n",
       "      <td>0</td>\n",
       "      <td>0</td>\n",
       "      <td>0</td>\n",
       "      <td>0</td>\n",
       "      <td>0</td>\n",
       "      <td>0</td>\n",
       "    </tr>\n",
       "  </tbody>\n",
       "</table>\n",
       "<p>5 rows × 123 columns</p>\n",
       "</div>"
      ],
      "text/plain": [
       "    CrimeDate CrimeTime CrimeCode            Location           Description  \\\n",
       "0  11/12/2016  02:35:00        3B   300 SAINT PAUL PL      ROBBERY - STREET   \n",
       "1  11/12/2016  02:56:00       3CF      800 S BROADWAY  ROBBERY - COMMERCIAL   \n",
       "2  11/12/2016  03:00:00        6D    1500 PENTWOOD RD     LARCENY FROM AUTO   \n",
       "3  11/12/2016  03:00:00        6D      6600 MILTON LN     LARCENY FROM AUTO   \n",
       "4  11/12/2016  03:00:00        6E  300 W BALTIMORE ST               LARCENY   \n",
       "\n",
       "  Inside/Outside   Post      District                Neighborhood         X  \\\n",
       "0        Outside  111.0       CENTRAL                    Downtown  39.29241   \n",
       "1         Inside  213.0  SOUTHEASTERN                 Fells Point  39.28242   \n",
       "2        Outside  413.0  NORTHEASTERN  Stonewood-Pentwood-Winston  39.34805   \n",
       "3        Outside  424.0  NORTHEASTERN                   Westfield  39.36263   \n",
       "4        Outside  111.0       CENTRAL                    Downtown  39.28938   \n",
       "\n",
       "   ...  Gay Street  NORTHEASTERN  NORTHERN  NORTHESTERN  NORTHWESTERN  \\\n",
       "0  ...           0             0         0            0             0   \n",
       "1  ...           0             0         0            0             0   \n",
       "2  ...           0             1         0            0             0   \n",
       "3  ...           0             1         0            0             0   \n",
       "4  ...           0             0         0            0             0   \n",
       "\n",
       "   SOUTHEASTERN  SOUTHERN  SOUTHESTERN  SOUTHWESTERN  WESTERN  \n",
       "0             0         0            0             0        0  \n",
       "1             1         0            0             0        0  \n",
       "2             0         0            0             0        0  \n",
       "3             0         0            0             0        0  \n",
       "4             0         0            0             0        0  \n",
       "\n",
       "[5 rows x 123 columns]"
      ]
     },
     "execution_count": 27,
     "metadata": {},
     "output_type": "execute_result"
    }
   ],
   "source": [
    "data.head()"
   ]
  },
  {
   "cell_type": "markdown",
   "metadata": {},
   "source": [
    "## Масштабирование данных"
   ]
  },
  {
   "cell_type": "code",
   "execution_count": 28,
   "metadata": {},
   "outputs": [
    {
     "data": {
      "text/plain": [
       "<AxesSubplot:xlabel='Post', ylabel='Count'>"
      ]
     },
     "execution_count": 28,
     "metadata": {},
     "output_type": "execute_result"
    },
    {
     "data": {
      "image/png": "[encoded data removed]",
      "text/plain": [
       "<Figure size 432x288 with 1 Axes>"
      ]
     },
     "metadata": {
      "needs_background": "light"
     },
     "output_type": "display_data"
    }
   ],
   "source": [
    "sns.histplot(data['Post'])"
   ]
  },
  {
   "cell_type": "code",
   "execution_count": 29,
   "metadata": {},
   "outputs": [
    {
     "data": {
      "image/png": "[encoded data removed]",
      "text/plain": [
       "<Figure size 432x288 with 1 Axes>"
      ]
     },
     "metadata": {
      "needs_background": "light"
     },
     "output_type": "display_data"
    }
   ],
   "source": [
    "data['Post'] = MinMaxScaler().fit_transform(data['Post'].values.reshape(-1, 1))\n",
    "sns.histplot(data['Post']);"
   ]
  },
  {
   "cell_type": "code",
   "execution_count": 30,
   "metadata": {},
   "outputs": [],
   "source": [
    "data['Hours'] = MinMaxScaler().fit_transform(data['Hours'].values.reshape(-1, 1))\n",
    "data['Minutes'] = MinMaxScaler().fit_transform(data['Minutes'].values.reshape(-1, 1))\n",
    "data['X'] = MinMaxScaler().fit_transform(data['X'].values.reshape(-1, 1))\n",
    "data['Y'] = MinMaxScaler().fit_transform(data['Y'].values.reshape(-1, 1))"
   ]
  },
  {
   "cell_type": "code",
   "execution_count": 31,
   "metadata": {},
   "outputs": [
    {
     "data": {
      "image/png": "[encoded data removed]",
      "text/plain": [
       "<Figure size 1080x288 with 2 Axes>"
      ]
     },
     "metadata": {
      "needs_background": "light"
     },
     "output_type": "display_data"
    }
   ],
   "source": [
    "fig, (ax1, ax2) = plt.subplots(1, 2, figsize=(15, 4))\n",
    "sns.histplot(data['X'], ax=ax1, bins=30)\n",
    "sns.histplot(data['Y'], ax=ax2, bins=30)\n",
    "ax1.set_title('X disribution')\n",
    "ax2.set_title('Y distribution')\n",
    "plt.show()"
   ]
  },
  {
   "cell_type": "code",
   "execution_count": 32,
   "metadata": {},
   "outputs": [
    {
     "data": {
      "image/png": "[encoded data removed]",
      "text/plain": [
       "<Figure size 1080x288 with 2 Axes>"
      ]
     },
     "metadata": {
      "needs_background": "light"
     },
     "output_type": "display_data"
    }
   ],
   "source": [
    "fig, (ax1, ax2) = plt.subplots(1, 2, figsize=(15, 4))\n",
    "sns.histplot(data['Hours'], ax=ax1)\n",
    "sns.histplot(data['Minutes'], ax=ax2)\n",
    "ax1.set_title('Hours disribution')\n",
    "ax2.set_title('Minutes distribution')\n",
    "plt.show()"
   ]
  }
 ],
 "metadata": {
  "kernelspec": {
   "display_name": "Python 3",
   "language": "python",
   "name": "python3"
  },
  "language_info": {
   "codemirror_mode": {
    "name": "ipython",
    "version": 3
   },
   "file_extension": ".py",
   "mimetype": "text/x-python",
   "name": "python",
   "nbconvert_exporter": "python",
   "pygments_lexer": "ipython3",
   "version": "3.8.5"
  }
 },
 "nbformat": 4,
 "nbformat_minor": 4
}
