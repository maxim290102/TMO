{
 "cells": [
  {
   "cell_type": "markdown",
   "id": "5477d9f4",
   "metadata": {},
   "source": [
    "# Лабораторная работа №5: \"Ансамбли моделей машинного обучения\"."
   ]
  },
  {
   "cell_type": "markdown",
   "id": "6a0881bd",
   "metadata": {},
   "source": [
    "## Загрузка датасета"
   ]
  },
  {
   "cell_type": "code",
   "execution_count": 37,
   "id": "bc7856d9",
   "metadata": {},
   "outputs": [],
   "source": [
    "import pandas as pd\n",
    "import seaborn as sns\n",
    "import matplotlib.pyplot as plt\n",
    "import numpy as np\n",
    "from sklearn.preprocessing import PolynomialFeatures, MinMaxScaler, StandardScaler\n",
    "from sklearn.linear_model import LinearRegression\n",
    "from sklearn.metrics import r2_score, mean_squared_error, mean_absolute_error\n",
    "from sklearn.model_selection import train_test_split, GridSearchCV\n",
    "from sklearn.ensemble import RandomForestRegressor, GradientBoostingRegressor\n",
    "from heamy.estimator import Regressor\n",
    "from heamy.pipeline import ModelsPipeline\n",
    "from heamy.dataset import Dataset\n",
    "from sklearn.neural_network import MLPRegressor\n",
    "from gmdhpy import gmdh\n",
    "from warnings import simplefilter\n",
    "\n",
    "simplefilter('ignore')"
   ]
  },
  {
   "cell_type": "code",
   "execution_count": 2,
   "id": "306c64cb",
   "metadata": {
    "scrolled": false
   },
   "outputs": [
    {
     "data": {
      "text/html": [
       "<div>\n",
       "<style scoped>\n",
       "    .dataframe tbody tr th:only-of-type {\n",
       "        vertical-align: middle;\n",
       "    }\n",
       "\n",
       "    .dataframe tbody tr th {\n",
       "        vertical-align: top;\n",
       "    }\n",
       "\n",
       "    .dataframe thead th {\n",
       "        text-align: right;\n",
       "    }\n",
       "</style>\n",
       "<table border=\"1\" class=\"dataframe\">\n",
       "  <thead>\n",
       "    <tr style=\"text-align: right;\">\n",
       "      <th></th>\n",
       "      <th>laptop_ID</th>\n",
       "      <th>Company</th>\n",
       "      <th>Product</th>\n",
       "      <th>TypeName</th>\n",
       "      <th>Inches</th>\n",
       "      <th>Ram_GB</th>\n",
       "      <th>OpSys</th>\n",
       "      <th>Weight_kg</th>\n",
       "      <th>Price_euros</th>\n",
       "      <th>ScreenType</th>\n",
       "      <th>...</th>\n",
       "      <th>ScreenRes</th>\n",
       "      <th>Cpu_type</th>\n",
       "      <th>Cpu_GHz</th>\n",
       "      <th>Gpu_producer</th>\n",
       "      <th>Gpu_model</th>\n",
       "      <th>Memory1_GB</th>\n",
       "      <th>Memory1_type</th>\n",
       "      <th>Memory2_GB</th>\n",
       "      <th>Memory2_type</th>\n",
       "      <th>Memory2</th>\n",
       "    </tr>\n",
       "  </thead>\n",
       "  <tbody>\n",
       "    <tr>\n",
       "      <th>0</th>\n",
       "      <td>1</td>\n",
       "      <td>Apple</td>\n",
       "      <td>MacBook Pro</td>\n",
       "      <td>Ultrabook</td>\n",
       "      <td>13.3</td>\n",
       "      <td>8</td>\n",
       "      <td>macOS</td>\n",
       "      <td>1.37</td>\n",
       "      <td>1339.69</td>\n",
       "      <td>IPS Panel Retina Display</td>\n",
       "      <td>...</td>\n",
       "      <td>2560x1600</td>\n",
       "      <td>Intel Core i5</td>\n",
       "      <td>2.3</td>\n",
       "      <td>Intel</td>\n",
       "      <td>Iris Plus Graphics 640</td>\n",
       "      <td>128</td>\n",
       "      <td>SSD</td>\n",
       "      <td>0</td>\n",
       "      <td>-</td>\n",
       "      <td>-</td>\n",
       "    </tr>\n",
       "    <tr>\n",
       "      <th>1</th>\n",
       "      <td>2</td>\n",
       "      <td>Apple</td>\n",
       "      <td>Macbook Air</td>\n",
       "      <td>Ultrabook</td>\n",
       "      <td>13.3</td>\n",
       "      <td>8</td>\n",
       "      <td>macOS</td>\n",
       "      <td>1.34</td>\n",
       "      <td>898.94</td>\n",
       "      <td>-</td>\n",
       "      <td>...</td>\n",
       "      <td>1440x900</td>\n",
       "      <td>Intel Core i5</td>\n",
       "      <td>1.8</td>\n",
       "      <td>Intel</td>\n",
       "      <td>HD Graphics 6000</td>\n",
       "      <td>128</td>\n",
       "      <td>Flash Storage</td>\n",
       "      <td>0</td>\n",
       "      <td>-</td>\n",
       "      <td>-</td>\n",
       "    </tr>\n",
       "    <tr>\n",
       "      <th>2</th>\n",
       "      <td>3</td>\n",
       "      <td>HP</td>\n",
       "      <td>250 G6</td>\n",
       "      <td>Notebook</td>\n",
       "      <td>15.6</td>\n",
       "      <td>8</td>\n",
       "      <td>No OS</td>\n",
       "      <td>1.86</td>\n",
       "      <td>575.00</td>\n",
       "      <td>Full HD</td>\n",
       "      <td>...</td>\n",
       "      <td>1920x1080</td>\n",
       "      <td>Intel Core i5 7200U</td>\n",
       "      <td>2.5</td>\n",
       "      <td>Intel</td>\n",
       "      <td>HD Graphics 620</td>\n",
       "      <td>256</td>\n",
       "      <td>SSD</td>\n",
       "      <td>0</td>\n",
       "      <td>-</td>\n",
       "      <td>-</td>\n",
       "    </tr>\n",
       "    <tr>\n",
       "      <th>3</th>\n",
       "      <td>4</td>\n",
       "      <td>Apple</td>\n",
       "      <td>MacBook Pro</td>\n",
       "      <td>Ultrabook</td>\n",
       "      <td>15.4</td>\n",
       "      <td>16</td>\n",
       "      <td>macOS</td>\n",
       "      <td>1.83</td>\n",
       "      <td>2537.45</td>\n",
       "      <td>IPS Panel Retina Display</td>\n",
       "      <td>...</td>\n",
       "      <td>2880x1800</td>\n",
       "      <td>Intel Core i7</td>\n",
       "      <td>2.7</td>\n",
       "      <td>AMD</td>\n",
       "      <td>Radeon Pro 455</td>\n",
       "      <td>512</td>\n",
       "      <td>SSD</td>\n",
       "      <td>0</td>\n",
       "      <td>-</td>\n",
       "      <td>-</td>\n",
       "    </tr>\n",
       "    <tr>\n",
       "      <th>4</th>\n",
       "      <td>5</td>\n",
       "      <td>Apple</td>\n",
       "      <td>MacBook Pro</td>\n",
       "      <td>Ultrabook</td>\n",
       "      <td>13.3</td>\n",
       "      <td>8</td>\n",
       "      <td>macOS</td>\n",
       "      <td>1.37</td>\n",
       "      <td>1803.60</td>\n",
       "      <td>IPS Panel Retina Display</td>\n",
       "      <td>...</td>\n",
       "      <td>2560x1600</td>\n",
       "      <td>Intel Core i5</td>\n",
       "      <td>3.1</td>\n",
       "      <td>Intel</td>\n",
       "      <td>Iris Plus Graphics 650</td>\n",
       "      <td>256</td>\n",
       "      <td>SSD</td>\n",
       "      <td>0</td>\n",
       "      <td>-</td>\n",
       "      <td>-</td>\n",
       "    </tr>\n",
       "  </tbody>\n",
       "</table>\n",
       "<p>5 rows × 22 columns</p>\n",
       "</div>"
      ],
      "text/plain": [
       "   laptop_ID Company      Product   TypeName  Inches  Ram_GB  OpSys  \\\n",
       "0          1   Apple  MacBook Pro  Ultrabook    13.3       8  macOS   \n",
       "1          2   Apple  Macbook Air  Ultrabook    13.3       8  macOS   \n",
       "2          3      HP       250 G6   Notebook    15.6       8  No OS   \n",
       "3          4   Apple  MacBook Pro  Ultrabook    15.4      16  macOS   \n",
       "4          5   Apple  MacBook Pro  Ultrabook    13.3       8  macOS   \n",
       "\n",
       "   Weight_kg  Price_euros                ScreenType  ...  ScreenRes  \\\n",
       "0       1.37      1339.69  IPS Panel Retina Display  ...  2560x1600   \n",
       "1       1.34       898.94                         -  ...   1440x900   \n",
       "2       1.86       575.00                   Full HD  ...  1920x1080   \n",
       "3       1.83      2537.45  IPS Panel Retina Display  ...  2880x1800   \n",
       "4       1.37      1803.60  IPS Panel Retina Display  ...  2560x1600   \n",
       "\n",
       "              Cpu_type Cpu_GHz Gpu_producer               Gpu_model  \\\n",
       "0        Intel Core i5     2.3        Intel  Iris Plus Graphics 640   \n",
       "1        Intel Core i5     1.8        Intel        HD Graphics 6000   \n",
       "2  Intel Core i5 7200U     2.5        Intel         HD Graphics 620   \n",
       "3        Intel Core i7     2.7          AMD          Radeon Pro 455   \n",
       "4        Intel Core i5     3.1        Intel  Iris Plus Graphics 650   \n",
       "\n",
       "  Memory1_GB   Memory1_type  Memory2_GB Memory2_type  Memory2  \n",
       "0        128            SSD           0            -        -  \n",
       "1        128  Flash Storage           0            -        -  \n",
       "2        256            SSD           0            -        -  \n",
       "3        512            SSD           0            -        -  \n",
       "4        256            SSD           0            -        -  \n",
       "\n",
       "[5 rows x 22 columns]"
      ]
     },
     "execution_count": 2,
     "metadata": {},
     "output_type": "execute_result"
    }
   ],
   "source": [
    "data = pd.read_csv('laptop_price_preprocessed.csv')\n",
    "data.head()"
   ]
  },
  {
   "cell_type": "markdown",
   "id": "1f8f414e",
   "metadata": {},
   "source": [
    "## Кодирование категориальных признаков"
   ]
  },
  {
   "cell_type": "code",
   "execution_count": 3,
   "id": "869ebd66",
   "metadata": {},
   "outputs": [
    {
     "name": "stdout",
     "output_type": "stream",
     "text": [
      "Количество уникальных значений\n",
      "\n",
      "Memory1_type: 4\n",
      "Memory2_type: 4\n",
      "Company: 19\n",
      "Product: 618\n",
      "TypeName: 6\n",
      "OpSys: 9\n",
      "ScreenType: 21\n",
      "Cpu_type: 93\n",
      "Gpu_producer: 4\n",
      "Gpu_model: 110\n"
     ]
    }
   ],
   "source": [
    "category_cols = ['Memory1_type', 'Memory2_type', 'Company', 'Product', 'TypeName', 'OpSys', \n",
    "                 'ScreenType', 'Cpu_type', 'Gpu_producer', 'Gpu_model']\n",
    "\n",
    "print('Количество уникальных значений\\n')\n",
    "for col in category_cols:\n",
    "    print(f'{col}: {data[col].unique().size}')"
   ]
  },
  {
   "cell_type": "code",
   "execution_count": 4,
   "id": "be059a92",
   "metadata": {},
   "outputs": [],
   "source": [
    "remove_cols = ['Product', 'Gpu_model', 'Cpu_type']\n",
    "for col in remove_cols:\n",
    "    category_cols.remove(col)\n",
    "data = pd.get_dummies(data, columns=category_cols)"
   ]
  },
  {
   "cell_type": "code",
   "execution_count": 5,
   "id": "6bff0466",
   "metadata": {
    "scrolled": true
   },
   "outputs": [
    {
     "data": {
      "text/html": [
       "<div>\n",
       "<style scoped>\n",
       "    .dataframe tbody tr th:only-of-type {\n",
       "        vertical-align: middle;\n",
       "    }\n",
       "\n",
       "    .dataframe tbody tr th {\n",
       "        vertical-align: top;\n",
       "    }\n",
       "\n",
       "    .dataframe thead th {\n",
       "        text-align: right;\n",
       "    }\n",
       "</style>\n",
       "<table border=\"1\" class=\"dataframe\">\n",
       "  <thead>\n",
       "    <tr style=\"text-align: right;\">\n",
       "      <th></th>\n",
       "      <th>Inches</th>\n",
       "      <th>Ram_GB</th>\n",
       "      <th>Weight_kg</th>\n",
       "      <th>Price_euros</th>\n",
       "      <th>ScreenWidth</th>\n",
       "      <th>ScreenHeight</th>\n",
       "      <th>Cpu_GHz</th>\n",
       "      <th>Memory1_GB</th>\n",
       "      <th>Memory2_GB</th>\n",
       "      <th>Memory1_type_Flash Storage</th>\n",
       "      <th>...</th>\n",
       "      <th>ScreenType_Quad HD+</th>\n",
       "      <th>ScreenType_Quad HD+ / Touchscreen</th>\n",
       "      <th>ScreenType_Touchscreen</th>\n",
       "      <th>ScreenType_Touchscreen / 4K Ultra HD</th>\n",
       "      <th>ScreenType_Touchscreen / Full HD</th>\n",
       "      <th>ScreenType_Touchscreen / Quad HD+</th>\n",
       "      <th>Gpu_producer_AMD</th>\n",
       "      <th>Gpu_producer_ARM</th>\n",
       "      <th>Gpu_producer_Intel</th>\n",
       "      <th>Gpu_producer_Nvidia</th>\n",
       "    </tr>\n",
       "  </thead>\n",
       "  <tbody>\n",
       "    <tr>\n",
       "      <th>count</th>\n",
       "      <td>1250.000000</td>\n",
       "      <td>1250.000000</td>\n",
       "      <td>1250.000000</td>\n",
       "      <td>1250.000000</td>\n",
       "      <td>1250.000000</td>\n",
       "      <td>1250.000000</td>\n",
       "      <td>1250.000000</td>\n",
       "      <td>1250.000000</td>\n",
       "      <td>1250.000000</td>\n",
       "      <td>1250.000000</td>\n",
       "      <td>...</td>\n",
       "      <td>1250.000000</td>\n",
       "      <td>1250.000000</td>\n",
       "      <td>1250.000000</td>\n",
       "      <td>1250.000000</td>\n",
       "      <td>1250.000000</td>\n",
       "      <td>1250.000000</td>\n",
       "      <td>1250.000000</td>\n",
       "      <td>1250.000000</td>\n",
       "      <td>1250.000000</td>\n",
       "      <td>1250.000000</td>\n",
       "    </tr>\n",
       "    <tr>\n",
       "      <th>mean</th>\n",
       "      <td>15.034880</td>\n",
       "      <td>8.443200</td>\n",
       "      <td>2.046152</td>\n",
       "      <td>1132.177480</td>\n",
       "      <td>1897.272000</td>\n",
       "      <td>1072.256000</td>\n",
       "      <td>2.303856</td>\n",
       "      <td>447.180800</td>\n",
       "      <td>174.675200</td>\n",
       "      <td>0.055200</td>\n",
       "      <td>...</td>\n",
       "      <td>0.002400</td>\n",
       "      <td>0.012000</td>\n",
       "      <td>0.025600</td>\n",
       "      <td>0.000800</td>\n",
       "      <td>0.000800</td>\n",
       "      <td>0.000800</td>\n",
       "      <td>0.133600</td>\n",
       "      <td>0.000800</td>\n",
       "      <td>0.552000</td>\n",
       "      <td>0.313600</td>\n",
       "    </tr>\n",
       "    <tr>\n",
       "      <th>std</th>\n",
       "      <td>1.416838</td>\n",
       "      <td>5.121929</td>\n",
       "      <td>0.669436</td>\n",
       "      <td>703.965444</td>\n",
       "      <td>491.854703</td>\n",
       "      <td>283.172078</td>\n",
       "      <td>0.502772</td>\n",
       "      <td>367.670259</td>\n",
       "      <td>411.340426</td>\n",
       "      <td>0.228462</td>\n",
       "      <td>...</td>\n",
       "      <td>0.048951</td>\n",
       "      <td>0.108929</td>\n",
       "      <td>0.158002</td>\n",
       "      <td>0.028284</td>\n",
       "      <td>0.028284</td>\n",
       "      <td>0.028284</td>\n",
       "      <td>0.340358</td>\n",
       "      <td>0.028284</td>\n",
       "      <td>0.497488</td>\n",
       "      <td>0.464142</td>\n",
       "    </tr>\n",
       "    <tr>\n",
       "      <th>min</th>\n",
       "      <td>10.100000</td>\n",
       "      <td>2.000000</td>\n",
       "      <td>0.690000</td>\n",
       "      <td>174.000000</td>\n",
       "      <td>1366.000000</td>\n",
       "      <td>768.000000</td>\n",
       "      <td>0.900000</td>\n",
       "      <td>8.000000</td>\n",
       "      <td>0.000000</td>\n",
       "      <td>0.000000</td>\n",
       "      <td>...</td>\n",
       "      <td>0.000000</td>\n",
       "      <td>0.000000</td>\n",
       "      <td>0.000000</td>\n",
       "      <td>0.000000</td>\n",
       "      <td>0.000000</td>\n",
       "      <td>0.000000</td>\n",
       "      <td>0.000000</td>\n",
       "      <td>0.000000</td>\n",
       "      <td>0.000000</td>\n",
       "      <td>0.000000</td>\n",
       "    </tr>\n",
       "    <tr>\n",
       "      <th>25%</th>\n",
       "      <td>14.000000</td>\n",
       "      <td>4.000000</td>\n",
       "      <td>1.500000</td>\n",
       "      <td>600.425000</td>\n",
       "      <td>1600.000000</td>\n",
       "      <td>900.000000</td>\n",
       "      <td>2.000000</td>\n",
       "      <td>256.000000</td>\n",
       "      <td>0.000000</td>\n",
       "      <td>0.000000</td>\n",
       "      <td>...</td>\n",
       "      <td>0.000000</td>\n",
       "      <td>0.000000</td>\n",
       "      <td>0.000000</td>\n",
       "      <td>0.000000</td>\n",
       "      <td>0.000000</td>\n",
       "      <td>0.000000</td>\n",
       "      <td>0.000000</td>\n",
       "      <td>0.000000</td>\n",
       "      <td>0.000000</td>\n",
       "      <td>0.000000</td>\n",
       "    </tr>\n",
       "    <tr>\n",
       "      <th>50%</th>\n",
       "      <td>15.600000</td>\n",
       "      <td>8.000000</td>\n",
       "      <td>2.040000</td>\n",
       "      <td>985.000000</td>\n",
       "      <td>1920.000000</td>\n",
       "      <td>1080.000000</td>\n",
       "      <td>2.500000</td>\n",
       "      <td>256.000000</td>\n",
       "      <td>0.000000</td>\n",
       "      <td>0.000000</td>\n",
       "      <td>...</td>\n",
       "      <td>0.000000</td>\n",
       "      <td>0.000000</td>\n",
       "      <td>0.000000</td>\n",
       "      <td>0.000000</td>\n",
       "      <td>0.000000</td>\n",
       "      <td>0.000000</td>\n",
       "      <td>0.000000</td>\n",
       "      <td>0.000000</td>\n",
       "      <td>1.000000</td>\n",
       "      <td>0.000000</td>\n",
       "    </tr>\n",
       "    <tr>\n",
       "      <th>75%</th>\n",
       "      <td>15.600000</td>\n",
       "      <td>8.000000</td>\n",
       "      <td>2.310000</td>\n",
       "      <td>1489.747500</td>\n",
       "      <td>1920.000000</td>\n",
       "      <td>1080.000000</td>\n",
       "      <td>2.700000</td>\n",
       "      <td>512.000000</td>\n",
       "      <td>0.000000</td>\n",
       "      <td>0.000000</td>\n",
       "      <td>...</td>\n",
       "      <td>0.000000</td>\n",
       "      <td>0.000000</td>\n",
       "      <td>0.000000</td>\n",
       "      <td>0.000000</td>\n",
       "      <td>0.000000</td>\n",
       "      <td>0.000000</td>\n",
       "      <td>0.000000</td>\n",
       "      <td>0.000000</td>\n",
       "      <td>1.000000</td>\n",
       "      <td>1.000000</td>\n",
       "    </tr>\n",
       "    <tr>\n",
       "      <th>max</th>\n",
       "      <td>18.400000</td>\n",
       "      <td>64.000000</td>\n",
       "      <td>4.700000</td>\n",
       "      <td>6099.000000</td>\n",
       "      <td>3840.000000</td>\n",
       "      <td>2160.000000</td>\n",
       "      <td>3.600000</td>\n",
       "      <td>2048.000000</td>\n",
       "      <td>2048.000000</td>\n",
       "      <td>1.000000</td>\n",
       "      <td>...</td>\n",
       "      <td>1.000000</td>\n",
       "      <td>1.000000</td>\n",
       "      <td>1.000000</td>\n",
       "      <td>1.000000</td>\n",
       "      <td>1.000000</td>\n",
       "      <td>1.000000</td>\n",
       "      <td>1.000000</td>\n",
       "      <td>1.000000</td>\n",
       "      <td>1.000000</td>\n",
       "      <td>1.000000</td>\n",
       "    </tr>\n",
       "  </tbody>\n",
       "</table>\n",
       "<p>8 rows × 76 columns</p>\n",
       "</div>"
      ],
      "text/plain": [
       "            Inches       Ram_GB    Weight_kg  Price_euros  ScreenWidth  \\\n",
       "count  1250.000000  1250.000000  1250.000000  1250.000000  1250.000000   \n",
       "mean     15.034880     8.443200     2.046152  1132.177480  1897.272000   \n",
       "std       1.416838     5.121929     0.669436   703.965444   491.854703   \n",
       "min      10.100000     2.000000     0.690000   174.000000  1366.000000   \n",
       "25%      14.000000     4.000000     1.500000   600.425000  1600.000000   \n",
       "50%      15.600000     8.000000     2.040000   985.000000  1920.000000   \n",
       "75%      15.600000     8.000000     2.310000  1489.747500  1920.000000   \n",
       "max      18.400000    64.000000     4.700000  6099.000000  3840.000000   \n",
       "\n",
       "       ScreenHeight      Cpu_GHz   Memory1_GB   Memory2_GB  \\\n",
       "count   1250.000000  1250.000000  1250.000000  1250.000000   \n",
       "mean    1072.256000     2.303856   447.180800   174.675200   \n",
       "std      283.172078     0.502772   367.670259   411.340426   \n",
       "min      768.000000     0.900000     8.000000     0.000000   \n",
       "25%      900.000000     2.000000   256.000000     0.000000   \n",
       "50%     1080.000000     2.500000   256.000000     0.000000   \n",
       "75%     1080.000000     2.700000   512.000000     0.000000   \n",
       "max     2160.000000     3.600000  2048.000000  2048.000000   \n",
       "\n",
       "       Memory1_type_Flash Storage  ...  ScreenType_Quad HD+  \\\n",
       "count                 1250.000000  ...          1250.000000   \n",
       "mean                     0.055200  ...             0.002400   \n",
       "std                      0.228462  ...             0.048951   \n",
       "min                      0.000000  ...             0.000000   \n",
       "25%                      0.000000  ...             0.000000   \n",
       "50%                      0.000000  ...             0.000000   \n",
       "75%                      0.000000  ...             0.000000   \n",
       "max                      1.000000  ...             1.000000   \n",
       "\n",
       "       ScreenType_Quad HD+ / Touchscreen  ScreenType_Touchscreen  \\\n",
       "count                        1250.000000             1250.000000   \n",
       "mean                            0.012000                0.025600   \n",
       "std                             0.108929                0.158002   \n",
       "min                             0.000000                0.000000   \n",
       "25%                             0.000000                0.000000   \n",
       "50%                             0.000000                0.000000   \n",
       "75%                             0.000000                0.000000   \n",
       "max                             1.000000                1.000000   \n",
       "\n",
       "       ScreenType_Touchscreen / 4K Ultra HD  ScreenType_Touchscreen / Full HD  \\\n",
       "count                           1250.000000                       1250.000000   \n",
       "mean                               0.000800                          0.000800   \n",
       "std                                0.028284                          0.028284   \n",
       "min                                0.000000                          0.000000   \n",
       "25%                                0.000000                          0.000000   \n",
       "50%                                0.000000                          0.000000   \n",
       "75%                                0.000000                          0.000000   \n",
       "max                                1.000000                          1.000000   \n",
       "\n",
       "       ScreenType_Touchscreen / Quad HD+  Gpu_producer_AMD  Gpu_producer_ARM  \\\n",
       "count                        1250.000000       1250.000000       1250.000000   \n",
       "mean                            0.000800          0.133600          0.000800   \n",
       "std                             0.028284          0.340358          0.028284   \n",
       "min                             0.000000          0.000000          0.000000   \n",
       "25%                             0.000000          0.000000          0.000000   \n",
       "50%                             0.000000          0.000000          0.000000   \n",
       "75%                             0.000000          0.000000          0.000000   \n",
       "max                             1.000000          1.000000          1.000000   \n",
       "\n",
       "       Gpu_producer_Intel  Gpu_producer_Nvidia  \n",
       "count         1250.000000          1250.000000  \n",
       "mean             0.552000             0.313600  \n",
       "std              0.497488             0.464142  \n",
       "min              0.000000             0.000000  \n",
       "25%              0.000000             0.000000  \n",
       "50%              1.000000             0.000000  \n",
       "75%              1.000000             1.000000  \n",
       "max              1.000000             1.000000  \n",
       "\n",
       "[8 rows x 76 columns]"
      ]
     },
     "execution_count": 5,
     "metadata": {},
     "output_type": "execute_result"
    }
   ],
   "source": [
    "data.drop(remove_cols, axis=1, inplace=True)\n",
    "data.drop(['laptop_ID', 'ScreenRes', 'Memory2'], axis=1, inplace=True)\n",
    "data.describe()"
   ]
  },
  {
   "cell_type": "code",
   "execution_count": 6,
   "id": "c37e8304",
   "metadata": {
    "scrolled": true
   },
   "outputs": [
    {
     "data": {
      "text/html": [
       "<div>\n",
       "<style scoped>\n",
       "    .dataframe tbody tr th:only-of-type {\n",
       "        vertical-align: middle;\n",
       "    }\n",
       "\n",
       "    .dataframe tbody tr th {\n",
       "        vertical-align: top;\n",
       "    }\n",
       "\n",
       "    .dataframe thead th {\n",
       "        text-align: right;\n",
       "    }\n",
       "</style>\n",
       "<table border=\"1\" class=\"dataframe\">\n",
       "  <thead>\n",
       "    <tr style=\"text-align: right;\">\n",
       "      <th></th>\n",
       "      <th>Inches</th>\n",
       "      <th>Ram_GB</th>\n",
       "      <th>Weight_kg</th>\n",
       "      <th>Price_euros</th>\n",
       "      <th>ScreenWidth</th>\n",
       "      <th>ScreenHeight</th>\n",
       "      <th>Cpu_GHz</th>\n",
       "      <th>Memory1_GB</th>\n",
       "      <th>Memory2_GB</th>\n",
       "      <th>Memory1_type_Flash Storage</th>\n",
       "      <th>...</th>\n",
       "      <th>ScreenType_Quad HD+</th>\n",
       "      <th>ScreenType_Quad HD+ / Touchscreen</th>\n",
       "      <th>ScreenType_Touchscreen</th>\n",
       "      <th>ScreenType_Touchscreen / 4K Ultra HD</th>\n",
       "      <th>ScreenType_Touchscreen / Full HD</th>\n",
       "      <th>ScreenType_Touchscreen / Quad HD+</th>\n",
       "      <th>Gpu_producer_AMD</th>\n",
       "      <th>Gpu_producer_ARM</th>\n",
       "      <th>Gpu_producer_Intel</th>\n",
       "      <th>Gpu_producer_Nvidia</th>\n",
       "    </tr>\n",
       "  </thead>\n",
       "  <tbody>\n",
       "    <tr>\n",
       "      <th>0</th>\n",
       "      <td>13.3</td>\n",
       "      <td>8</td>\n",
       "      <td>1.37</td>\n",
       "      <td>1339.69</td>\n",
       "      <td>2560</td>\n",
       "      <td>1600</td>\n",
       "      <td>2.3</td>\n",
       "      <td>128</td>\n",
       "      <td>0</td>\n",
       "      <td>0</td>\n",
       "      <td>...</td>\n",
       "      <td>0</td>\n",
       "      <td>0</td>\n",
       "      <td>0</td>\n",
       "      <td>0</td>\n",
       "      <td>0</td>\n",
       "      <td>0</td>\n",
       "      <td>0</td>\n",
       "      <td>0</td>\n",
       "      <td>1</td>\n",
       "      <td>0</td>\n",
       "    </tr>\n",
       "    <tr>\n",
       "      <th>1</th>\n",
       "      <td>13.3</td>\n",
       "      <td>8</td>\n",
       "      <td>1.34</td>\n",
       "      <td>898.94</td>\n",
       "      <td>1440</td>\n",
       "      <td>900</td>\n",
       "      <td>1.8</td>\n",
       "      <td>128</td>\n",
       "      <td>0</td>\n",
       "      <td>1</td>\n",
       "      <td>...</td>\n",
       "      <td>0</td>\n",
       "      <td>0</td>\n",
       "      <td>0</td>\n",
       "      <td>0</td>\n",
       "      <td>0</td>\n",
       "      <td>0</td>\n",
       "      <td>0</td>\n",
       "      <td>0</td>\n",
       "      <td>1</td>\n",
       "      <td>0</td>\n",
       "    </tr>\n",
       "    <tr>\n",
       "      <th>2</th>\n",
       "      <td>15.6</td>\n",
       "      <td>8</td>\n",
       "      <td>1.86</td>\n",
       "      <td>575.00</td>\n",
       "      <td>1920</td>\n",
       "      <td>1080</td>\n",
       "      <td>2.5</td>\n",
       "      <td>256</td>\n",
       "      <td>0</td>\n",
       "      <td>0</td>\n",
       "      <td>...</td>\n",
       "      <td>0</td>\n",
       "      <td>0</td>\n",
       "      <td>0</td>\n",
       "      <td>0</td>\n",
       "      <td>0</td>\n",
       "      <td>0</td>\n",
       "      <td>0</td>\n",
       "      <td>0</td>\n",
       "      <td>1</td>\n",
       "      <td>0</td>\n",
       "    </tr>\n",
       "    <tr>\n",
       "      <th>3</th>\n",
       "      <td>15.4</td>\n",
       "      <td>16</td>\n",
       "      <td>1.83</td>\n",
       "      <td>2537.45</td>\n",
       "      <td>2880</td>\n",
       "      <td>1800</td>\n",
       "      <td>2.7</td>\n",
       "      <td>512</td>\n",
       "      <td>0</td>\n",
       "      <td>0</td>\n",
       "      <td>...</td>\n",
       "      <td>0</td>\n",
       "      <td>0</td>\n",
       "      <td>0</td>\n",
       "      <td>0</td>\n",
       "      <td>0</td>\n",
       "      <td>0</td>\n",
       "      <td>1</td>\n",
       "      <td>0</td>\n",
       "      <td>0</td>\n",
       "      <td>0</td>\n",
       "    </tr>\n",
       "    <tr>\n",
       "      <th>4</th>\n",
       "      <td>13.3</td>\n",
       "      <td>8</td>\n",
       "      <td>1.37</td>\n",
       "      <td>1803.60</td>\n",
       "      <td>2560</td>\n",
       "      <td>1600</td>\n",
       "      <td>3.1</td>\n",
       "      <td>256</td>\n",
       "      <td>0</td>\n",
       "      <td>0</td>\n",
       "      <td>...</td>\n",
       "      <td>0</td>\n",
       "      <td>0</td>\n",
       "      <td>0</td>\n",
       "      <td>0</td>\n",
       "      <td>0</td>\n",
       "      <td>0</td>\n",
       "      <td>0</td>\n",
       "      <td>0</td>\n",
       "      <td>1</td>\n",
       "      <td>0</td>\n",
       "    </tr>\n",
       "  </tbody>\n",
       "</table>\n",
       "<p>5 rows × 76 columns</p>\n",
       "</div>"
      ],
      "text/plain": [
       "   Inches  Ram_GB  Weight_kg  Price_euros  ScreenWidth  ScreenHeight  Cpu_GHz  \\\n",
       "0    13.3       8       1.37      1339.69         2560          1600      2.3   \n",
       "1    13.3       8       1.34       898.94         1440           900      1.8   \n",
       "2    15.6       8       1.86       575.00         1920          1080      2.5   \n",
       "3    15.4      16       1.83      2537.45         2880          1800      2.7   \n",
       "4    13.3       8       1.37      1803.60         2560          1600      3.1   \n",
       "\n",
       "   Memory1_GB  Memory2_GB  Memory1_type_Flash Storage  ...  \\\n",
       "0         128           0                           0  ...   \n",
       "1         128           0                           1  ...   \n",
       "2         256           0                           0  ...   \n",
       "3         512           0                           0  ...   \n",
       "4         256           0                           0  ...   \n",
       "\n",
       "   ScreenType_Quad HD+  ScreenType_Quad HD+ / Touchscreen  \\\n",
       "0                    0                                  0   \n",
       "1                    0                                  0   \n",
       "2                    0                                  0   \n",
       "3                    0                                  0   \n",
       "4                    0                                  0   \n",
       "\n",
       "   ScreenType_Touchscreen  ScreenType_Touchscreen / 4K Ultra HD  \\\n",
       "0                       0                                     0   \n",
       "1                       0                                     0   \n",
       "2                       0                                     0   \n",
       "3                       0                                     0   \n",
       "4                       0                                     0   \n",
       "\n",
       "   ScreenType_Touchscreen / Full HD  ScreenType_Touchscreen / Quad HD+  \\\n",
       "0                                 0                                  0   \n",
       "1                                 0                                  0   \n",
       "2                                 0                                  0   \n",
       "3                                 0                                  0   \n",
       "4                                 0                                  0   \n",
       "\n",
       "   Gpu_producer_AMD  Gpu_producer_ARM  Gpu_producer_Intel  Gpu_producer_Nvidia  \n",
       "0                 0                 0                   1                    0  \n",
       "1                 0                 0                   1                    0  \n",
       "2                 0                 0                   1                    0  \n",
       "3                 1                 0                   0                    0  \n",
       "4                 0                 0                   1                    0  \n",
       "\n",
       "[5 rows x 76 columns]"
      ]
     },
     "execution_count": 6,
     "metadata": {},
     "output_type": "execute_result"
    }
   ],
   "source": [
    "data.head()"
   ]
  },
  {
   "cell_type": "markdown",
   "id": "d796d609",
   "metadata": {},
   "source": [
    "## Корреляционный анализ"
   ]
  },
  {
   "cell_type": "code",
   "execution_count": 7,
   "id": "76ea5f2e",
   "metadata": {},
   "outputs": [
    {
     "name": "stdout",
     "output_type": "stream",
     "text": [
      "Признаки, имеющие максимальную по модулю корреляцию с ценой ноутбука\n"
     ]
    },
    {
     "data": {
      "text/plain": [
       "Ram_GB                 0.743141\n",
       "TypeName_Notebook      0.555495\n",
       "ScreenWidth            0.553660\n",
       "ScreenHeight           0.550213\n",
       "Memory1_type_SSD       0.505318\n",
       "ScreenType_-           0.435191\n",
       "Cpu_GHz                0.431697\n",
       "Memory1_type_HDD       0.425687\n",
       "TypeName_Gaming        0.377151\n",
       "Gpu_producer_Nvidia    0.351031\n",
       "Name: Price_euros, dtype: float64"
      ]
     },
     "execution_count": 7,
     "metadata": {},
     "output_type": "execute_result"
    }
   ],
   "source": [
    "print('Признаки, имеющие максимальную по модулю корреляцию с ценой ноутбука')\n",
    "best_params = data.corr()['Price_euros'].map(abs).sort_values(ascending=False)[1:]\n",
    "best_params = best_params[best_params.values > 0.35]\n",
    "best_params"
   ]
  },
  {
   "cell_type": "code",
   "execution_count": 8,
   "id": "0d7d47f0",
   "metadata": {},
   "outputs": [
    {
     "data": {
      "image/png": "[encoded data removed]",
      "text/plain": [
       "<Figure size 1008x432 with 2 Axes>"
      ]
     },
     "metadata": {
      "needs_background": "light"
     },
     "output_type": "display_data"
    }
   ],
   "source": [
    "plt.figure(figsize=(14, 6))\n",
    "sns.heatmap(data[best_params.index].corr(), vmin=-1, vmax=1, cmap='coolwarm', annot=True)\n",
    "plt.show()"
   ]
  },
  {
   "cell_type": "code",
   "execution_count": 9,
   "id": "c7e20c30",
   "metadata": {},
   "outputs": [],
   "source": [
    "best_params = best_params.drop(['ScreenHeight', 'Memory1_type_SSD', 'ScreenType_-', 'Gpu_producer_Nvidia'])"
   ]
  },
  {
   "cell_type": "code",
   "execution_count": 10,
   "id": "da038c63",
   "metadata": {},
   "outputs": [
    {
     "data": {
      "image/png": "[encoded data removed]",
      "text/plain": [
       "<Figure size 576x288 with 2 Axes>"
      ]
     },
     "metadata": {
      "needs_background": "light"
     },
     "output_type": "display_data"
    }
   ],
   "source": [
    "plt.figure(figsize=(8, 4))\n",
    "sns.heatmap(data[best_params.index].corr(), vmin=-1, vmax=1, cmap='coolwarm', annot=True)\n",
    "plt.show()"
   ]
  },
  {
   "cell_type": "code",
   "execution_count": 11,
   "id": "ce62c242",
   "metadata": {},
   "outputs": [
    {
     "data": {
      "image/png": "[encoded data removed]",
      "text/plain": [
       "<Figure size 432x216 with 2 Axes>"
      ]
     },
     "metadata": {
      "needs_background": "light"
     },
     "output_type": "display_data"
    }
   ],
   "source": [
    "plt.figure(figsize=(6, 3))\n",
    "sns.heatmap(pd.DataFrame(data[np.append(best_params.index.values, 'Price_euros')].corr()['Price_euros'].sort_values(ascending=False)[1:]), vmin=-1, vmax=1, cmap='coolwarm', annot=True)\n",
    "plt.show()"
   ]
  },
  {
   "cell_type": "markdown",
   "id": "23d8bcca",
   "metadata": {},
   "source": [
    "## Разделение выборки на обучающую и тестовую"
   ]
  },
  {
   "cell_type": "code",
   "execution_count": 12,
   "id": "a3c68b6e",
   "metadata": {},
   "outputs": [],
   "source": [
    "y = data['Price_euros']\n",
    "X = data[best_params.index]\n",
    "x_train, x_test, y_train, y_test = train_test_split(X, y, test_size=0.3, random_state=3)"
   ]
  },
  {
   "cell_type": "markdown",
   "id": "b00688ab",
   "metadata": {},
   "source": [
    "## Масштабирование данных"
   ]
  },
  {
   "cell_type": "code",
   "execution_count": null,
   "id": "34c8a42d",
   "metadata": {},
   "outputs": [],
   "source": [
    "scaler = StandardScaler().fit(x_train)\n",
    "x_train_scaled = pd.DataFrame(scaler.transform(x_train), columns=x_train.columns)\n",
    "x_test_scaled = pd.DataFrame(scaler.transform(x_test), columns=x_train.columns)"
   ]
  },
  {
   "cell_type": "markdown",
   "id": "d613ea04",
   "metadata": {},
   "source": [
    "## Метрики"
   ]
  },
  {
   "cell_type": "code",
   "execution_count": 39,
   "id": "bf5034e0",
   "metadata": {},
   "outputs": [],
   "source": [
    "def print_metrics(y_test, y_pred):\n",
    "    print(f\"R^2: {r2_score(y_test, y_pred)}\")\n",
    "    print(f\"MSE: {mean_squared_error(y_test, y_pred)}\")\n",
    "    print(f\"MAE: {mean_absolute_error(y_test, y_pred)}\")"
   ]
  },
  {
   "cell_type": "markdown",
   "id": "8a24e11f",
   "metadata": {},
   "source": [
    "## Модель №1: Случайный лес"
   ]
  },
  {
   "cell_type": "code",
   "execution_count": 40,
   "id": "0cf4aad4",
   "metadata": {},
   "outputs": [
    {
     "name": "stdout",
     "output_type": "stream",
     "text": [
      "R^2: 0.6842978189655353\n",
      "MSE: 136700.47614728688\n",
      "MAE: 253.06780287849978\n"
     ]
    }
   ],
   "source": [
    "print_metrics(y_test, RandomForestRegressor(random_state=17).fit(x_train, y_train).predict(x_test))"
   ]
  },
  {
   "cell_type": "markdown",
   "id": "2930e6dd",
   "metadata": {},
   "source": [
    "### Подбор гиперпараметров"
   ]
  },
  {
   "cell_type": "code",
   "execution_count": 14,
   "id": "c59c6083",
   "metadata": {},
   "outputs": [
    {
     "name": "stdout",
     "output_type": "stream",
     "text": [
      "{'criterion': 'absolute_error', 'max_features': 'auto', 'min_samples_leaf': 1, 'n_estimators': 1000}\n"
     ]
    }
   ],
   "source": [
    "rf = RandomForestRegressor(random_state=17)\n",
    "params = {'n_estimators': [100, 1000], 'criterion': ['squared_error', 'absolute_error', 'poisson'], \n",
    "          'max_features': ['auto', 'sqrt'], 'min_samples_leaf': [1, 3, 5]}\n",
    "grid_cv = GridSearchCV(estimator=rf, cv=5, param_grid=params, n_jobs=-1, scoring='neg_mean_absolute_error')\n",
    "grid_cv.fit(x_train, y_train)\n",
    "print(grid_cv.best_params_)"
   ]
  },
  {
   "cell_type": "code",
   "execution_count": 15,
   "id": "f92a9c47",
   "metadata": {},
   "outputs": [
    {
     "name": "stdout",
     "output_type": "stream",
     "text": [
      "R^2: 0.6898203012827298\n",
      "MSE: 134309.21625861025\n",
      "MAE: 252.41492530666685\n"
     ]
    }
   ],
   "source": [
    "best_rf = grid_cv.best_estimator_\n",
    "best_rf.fit(x_train, y_train)\n",
    "y_pred_rf = best_rf.predict(x_test)\n",
    "print_metrics(y_test, y_pred_rf)"
   ]
  },
  {
   "cell_type": "markdown",
   "id": "5eebc94d",
   "metadata": {},
   "source": [
    "## Модель №2: Градиентный бустинг"
   ]
  },
  {
   "cell_type": "code",
   "execution_count": 41,
   "id": "6b8f838f",
   "metadata": {},
   "outputs": [
    {
     "name": "stdout",
     "output_type": "stream",
     "text": [
      "R^2: 0.6940296765051565\n",
      "MSE: 132486.53769711652\n",
      "MAE: 258.8073464450384\n"
     ]
    }
   ],
   "source": [
    "print_metrics(y_test, GradientBoostingRegressor(random_state=17).fit(x_train, y_train).predict(x_test))"
   ]
  },
  {
   "cell_type": "markdown",
   "id": "5869a757",
   "metadata": {},
   "source": [
    "### Подбор гиперпараметров"
   ]
  },
  {
   "cell_type": "code",
   "execution_count": 17,
   "id": "c7dc424e",
   "metadata": {},
   "outputs": [
    {
     "name": "stdout",
     "output_type": "stream",
     "text": [
      "{'criterion': 'friedman_mse', 'loss': 'huber', 'min_samples_leaf': 1, 'n_estimators': 100}\n"
     ]
    }
   ],
   "source": [
    "gb = GradientBoostingRegressor(random_state=17)\n",
    "params = {'loss': ['squared_error', 'absolute_error', 'huber'], 'n_estimators': [10, 50, 100, 200], \n",
    "          'criterion': ['friedman_mse', 'squared_error', 'mse', 'mae'], 'min_samples_leaf': [1, 3, 5]}\n",
    "grid_cv = GridSearchCV(estimator=gb, cv=5, param_grid=params, n_jobs=-1, scoring='r2')\n",
    "grid_cv.fit(x_train, y_train)\n",
    "print(grid_cv.best_params_)"
   ]
  },
  {
   "cell_type": "code",
   "execution_count": 18,
   "id": "bc482319",
   "metadata": {},
   "outputs": [
    {
     "name": "stdout",
     "output_type": "stream",
     "text": [
      "R^2: 0.7013333844767404\n",
      "MSE: 129323.99902194891\n",
      "MAE: 253.7859718910538\n"
     ]
    }
   ],
   "source": [
    "best_gb = grid_cv.best_estimator_\n",
    "best_gb.fit(x_train, y_train)\n",
    "y_pred_gb = best_gb.predict(x_test)\n",
    "print_metrics(y_test, y_pred_gb)"
   ]
  },
  {
   "cell_type": "markdown",
   "id": "2a7f7809",
   "metadata": {},
   "source": [
    "## Модель №3: Стекинг"
   ]
  },
  {
   "cell_type": "code",
   "execution_count": 24,
   "id": "f74e3223",
   "metadata": {},
   "outputs": [],
   "source": [
    "dataset = Dataset(x_train, y_train, x_test)"
   ]
  },
  {
   "cell_type": "code",
   "execution_count": 27,
   "id": "efb25673",
   "metadata": {},
   "outputs": [],
   "source": [
    "model_lr = Regressor(dataset=dataset, estimator=LinearRegression, name='lr')\n",
    "model_rf = Regressor(dataset=dataset, estimator=RandomForestRegressor, \n",
    "                     parameters={'criterion': 'absolute_error', 'n_estimators': 1000, 'random_state': 17}, name='rf')\n",
    "model_gb = Regressor(dataset=dataset, estimator=GradientBoostingRegressor, \n",
    "                     parameters={'loss': 'huber', 'random_state': 17}, name='rf')"
   ]
  },
  {
   "cell_type": "code",
   "execution_count": 28,
   "id": "208782f6",
   "metadata": {},
   "outputs": [
    {
     "name": "stdout",
     "output_type": "stream",
     "text": [
      "Metric: mean_absolute_error\n",
      "Folds accuracy: [191.39424868214826, 223.5971668487191, 216.86376824238184, 272.97770520828004, 275.15017993431206, 225.94857678271197, 236.4669684146994, 268.2067712261299, 198.22714693578052, 262.2396119721167]\n",
      "Mean accuracy: 237.10721442472794\n",
      "Standard Deviation: 29.413190351082335\n",
      "Variance: 865.1357666290029\n"
     ]
    }
   ],
   "source": [
    "pipeline = ModelsPipeline(model_lr, model_rf)\n",
    "stack_ds = pipeline.stack(k=10, seed=1)\n",
    "stacker = Regressor(dataset=stack_ds, estimator=GradientBoostingRegressor)\n",
    "results = stacker.validate(k=10, scorer=mean_absolute_error)"
   ]
  },
  {
   "cell_type": "code",
   "execution_count": 29,
   "id": "532e37c2",
   "metadata": {},
   "outputs": [
    {
     "name": "stdout",
     "output_type": "stream",
     "text": [
      "R^2: 0.7207185369761542\n",
      "MSE: 120930.14007496767\n",
      "MAE: 247.18161038788267\n"
     ]
    }
   ],
   "source": [
    "y_pred_stack = stacker.predict()\n",
    "print_metrics(y_test, y_pred_stack)"
   ]
  },
  {
   "cell_type": "markdown",
   "id": "48d5af0a",
   "metadata": {},
   "source": [
    "## Модель №4: Многослойный персептрон"
   ]
  },
  {
   "cell_type": "code",
   "execution_count": 48,
   "id": "133c1ee3",
   "metadata": {},
   "outputs": [
    {
     "name": "stdout",
     "output_type": "stream",
     "text": [
      "R^2: 0.3933464482443907\n",
      "MSE: 262683.73918006354\n",
      "MAE: 406.8932580917785\n"
     ]
    }
   ],
   "source": [
    "print_metrics(y_test, MLPRegressor(random_state=17).fit(x_train, y_train).predict(x_test))"
   ]
  },
  {
   "cell_type": "markdown",
   "id": "b8b9c0c4",
   "metadata": {},
   "source": [
    "### Подбор гиперпараметров"
   ]
  },
  {
   "cell_type": "code",
   "execution_count": 52,
   "id": "cb09792f",
   "metadata": {},
   "outputs": [
    {
     "name": "stdout",
     "output_type": "stream",
     "text": [
      "{'alpha': 0.0003, 'hidden_layer_sizes': (50, 30), 'max_iter': 500, 'solver': 'lbfgs'}\n"
     ]
    }
   ],
   "source": [
    "mlp = MLPRegressor(random_state=17)\n",
    "params = {'solver': ['lbfgs', 'sgd', 'adam'], 'hidden_layer_sizes': [(100,), (50, 30,), (100, 40,)], \n",
    "          'alpha': [1e-4, 3e-4, 5e-4], 'max_iter': [500, 1000]}\n",
    "grid_cv = GridSearchCV(estimator=mlp, cv=5, param_grid=params, n_jobs=-1, scoring='r2')\n",
    "grid_cv.fit(x_train, y_train)\n",
    "print(grid_cv.best_params_)"
   ]
  },
  {
   "cell_type": "code",
   "execution_count": 53,
   "id": "51118d52",
   "metadata": {},
   "outputs": [
    {
     "name": "stdout",
     "output_type": "stream",
     "text": [
      "R^2: 0.6422646017371612\n",
      "MSE: 154901.0498344665\n",
      "MAE: 288.659695272951\n"
     ]
    }
   ],
   "source": [
    "best_mlp = grid_cv.best_estimator_\n",
    "best_mlp.fit(x_train, y_train)\n",
    "y_pred_mlp = best_mlp.predict(x_test)\n",
    "print_metrics(y_test, y_pred_mlp)"
   ]
  },
  {
   "cell_type": "markdown",
   "id": "21139733",
   "metadata": {},
   "source": [
    "## Модель №5: Метод группового учёта аргументов"
   ]
  },
  {
   "cell_type": "code",
   "execution_count": 35,
   "id": "01495624",
   "metadata": {},
   "outputs": [
    {
     "name": "stdout",
     "output_type": "stream",
     "text": [
      "train layer0 in 0.01 sec\n",
      "train layer1 in 0.05 sec\n",
      "train layer2 in 0.04 sec\n",
      "train layer3 in 0.05 sec\n",
      "train layer4 in 0.04 sec\n",
      "train layer5 in 0.05 sec\n",
      "train layer6 in 0.04 sec\n",
      "train layer7 in 0.04 sec\n",
      "train layer8 in 0.03 sec\n",
      "\n",
      "R^2: 0.6642449299187112\n",
      "MSE: 145383.4680475877\n",
      "MAE: 274.30940411915725\n"
     ]
    }
   ],
   "source": [
    "gm = gmdh.Regressor(n_jobs=-1)\n",
    "gm.fit(np.array(x_train_scaled), np.array(y_train))\n",
    "y_pred_gm = gm.predict(np.array(x_test_scaled))\n",
    "print()\n",
    "print_metrics(y_test, y_pred_gm)"
   ]
  },
  {
   "cell_type": "markdown",
   "id": "6df6deee",
   "metadata": {},
   "source": [
    "## Сравнение моделей"
   ]
  },
  {
   "cell_type": "code",
   "execution_count": 54,
   "id": "eec83a36",
   "metadata": {},
   "outputs": [
    {
     "name": "stdout",
     "output_type": "stream",
     "text": [
      "Случайный лес\n",
      "R^2: 0.6898203012827298\n",
      "MSE: 134309.21625861025\n",
      "MAE: 252.41492530666685\n",
      "\n",
      "Градиентный бустинг\n",
      "R^2: 0.7013333844767404\n",
      "MSE: 129323.99902194891\n",
      "MAE: 253.7859718910538\n",
      "\n",
      "Стекинг\n",
      "R^2: 0.7207185369761542\n",
      "MSE: 120930.14007496767\n",
      "MAE: 247.18161038788267\n",
      "\n",
      "Многослойный персептрон\n",
      "R^2: 0.6422646017371612\n",
      "MSE: 154901.0498344665\n",
      "MAE: 288.659695272951\n",
      "\n",
      "Метод группового учёта аргументов\n",
      "R^2: 0.6642449299187112\n",
      "MSE: 145383.4680475877\n",
      "MAE: 274.30940411915725\n"
     ]
    }
   ],
   "source": [
    "print(\"Случайный лес\")\n",
    "print_metrics(y_test, y_pred_rf)\n",
    "\n",
    "print(\"\\nГрадиентный бустинг\")\n",
    "print_metrics(y_test, y_pred_gb)\n",
    "\n",
    "print(\"\\nСтекинг\")\n",
    "print_metrics(y_test, y_pred_stack)\n",
    "\n",
    "print(\"\\nМногослойный персептрон\")\n",
    "print_metrics(y_test, y_pred_mlp)\n",
    "\n",
    "print(\"\\nМетод группового учёта аргументов\")\n",
    "print_metrics(y_test, y_pred_gm)"
   ]
  }
 ],
 "metadata": {
  "kernelspec": {
   "display_name": "Python 3 (ipykernel)",
   "language": "python",
   "name": "python3"
  },
  "language_info": {
   "codemirror_mode": {
    "name": "ipython",
    "version": 3
   },
   "file_extension": ".py",
   "mimetype": "text/x-python",
   "name": "python",
   "nbconvert_exporter": "python",
   "pygments_lexer": "ipython3",
   "version": "3.8.12"
  }
 },
 "nbformat": 4,
 "nbformat_minor": 5
}
